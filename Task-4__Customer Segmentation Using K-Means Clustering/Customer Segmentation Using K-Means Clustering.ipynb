{
 "cells": [
  {
   "cell_type": "code",
   "execution_count": 38,
   "id": "9f2de9c9-445a-40d2-9fc6-5648b094aad5",
   "metadata": {},
   "outputs": [],
   "source": [
    "import numpy as np\n",
    "import pandas as pd\n",
    "import matplotlib.pyplot as plt\n",
    "import seaborn as sns\n",
    "from sklearn.cluster import KMeans"
   ]
  },
  {
   "cell_type": "code",
   "execution_count": 39,
   "id": "52737682-525c-49bf-8328-fe44f83bb221",
   "metadata": {},
   "outputs": [],
   "source": [
    "# Import Dataset:\n",
    "df = pd.read_csv('Mall_Customers.csv')"
   ]
  },
  {
   "cell_type": "code",
   "execution_count": 40,
   "id": "60c52a12-fe1f-4b97-a92c-4b0b1cf4ed44",
   "metadata": {},
   "outputs": [
    {
     "data": {
      "text/html": [
       "<div>\n",
       "<style scoped>\n",
       "    .dataframe tbody tr th:only-of-type {\n",
       "        vertical-align: middle;\n",
       "    }\n",
       "\n",
       "    .dataframe tbody tr th {\n",
       "        vertical-align: top;\n",
       "    }\n",
       "\n",
       "    .dataframe thead th {\n",
       "        text-align: right;\n",
       "    }\n",
       "</style>\n",
       "<table border=\"1\" class=\"dataframe\">\n",
       "  <thead>\n",
       "    <tr style=\"text-align: right;\">\n",
       "      <th></th>\n",
       "      <th>CustomerID</th>\n",
       "      <th>Gender</th>\n",
       "      <th>Age</th>\n",
       "      <th>Annual Income (k$)</th>\n",
       "      <th>Spending Score (1-100)</th>\n",
       "    </tr>\n",
       "  </thead>\n",
       "  <tbody>\n",
       "    <tr>\n",
       "      <th>0</th>\n",
       "      <td>1</td>\n",
       "      <td>Male</td>\n",
       "      <td>19</td>\n",
       "      <td>15</td>\n",
       "      <td>39</td>\n",
       "    </tr>\n",
       "    <tr>\n",
       "      <th>1</th>\n",
       "      <td>2</td>\n",
       "      <td>Male</td>\n",
       "      <td>21</td>\n",
       "      <td>15</td>\n",
       "      <td>81</td>\n",
       "    </tr>\n",
       "    <tr>\n",
       "      <th>2</th>\n",
       "      <td>3</td>\n",
       "      <td>Female</td>\n",
       "      <td>20</td>\n",
       "      <td>16</td>\n",
       "      <td>6</td>\n",
       "    </tr>\n",
       "    <tr>\n",
       "      <th>3</th>\n",
       "      <td>4</td>\n",
       "      <td>Female</td>\n",
       "      <td>23</td>\n",
       "      <td>16</td>\n",
       "      <td>77</td>\n",
       "    </tr>\n",
       "    <tr>\n",
       "      <th>4</th>\n",
       "      <td>5</td>\n",
       "      <td>Female</td>\n",
       "      <td>31</td>\n",
       "      <td>17</td>\n",
       "      <td>40</td>\n",
       "    </tr>\n",
       "  </tbody>\n",
       "</table>\n",
       "</div>"
      ],
      "text/plain": [
       "   CustomerID  Gender  Age  Annual Income (k$)  Spending Score (1-100)\n",
       "0           1    Male   19                  15                      39\n",
       "1           2    Male   21                  15                      81\n",
       "2           3  Female   20                  16                       6\n",
       "3           4  Female   23                  16                      77\n",
       "4           5  Female   31                  17                      40"
      ]
     },
     "execution_count": 40,
     "metadata": {},
     "output_type": "execute_result"
    }
   ],
   "source": [
    "df.head()"
   ]
  },
  {
   "cell_type": "code",
   "execution_count": 41,
   "id": "2320bce9-1295-42e8-a6e7-12029aedb965",
   "metadata": {},
   "outputs": [
    {
     "data": {
      "text/plain": [
       "(200, 5)"
      ]
     },
     "execution_count": 41,
     "metadata": {},
     "output_type": "execute_result"
    }
   ],
   "source": [
    "df.shape  # checking the shape of dataset"
   ]
  },
  {
   "cell_type": "code",
   "execution_count": 42,
   "id": "1a11c808-c83f-4626-8263-b6591651bc95",
   "metadata": {},
   "outputs": [
    {
     "name": "stdout",
     "output_type": "stream",
     "text": [
      "<class 'pandas.core.frame.DataFrame'>\n",
      "RangeIndex: 200 entries, 0 to 199\n",
      "Data columns (total 5 columns):\n",
      " #   Column                  Non-Null Count  Dtype \n",
      "---  ------                  --------------  ----- \n",
      " 0   CustomerID              200 non-null    int64 \n",
      " 1   Gender                  200 non-null    object\n",
      " 2   Age                     200 non-null    int64 \n",
      " 3   Annual Income (k$)      200 non-null    int64 \n",
      " 4   Spending Score (1-100)  200 non-null    int64 \n",
      "dtypes: int64(4), object(1)\n",
      "memory usage: 7.9+ KB\n"
     ]
    }
   ],
   "source": [
    "# Info about Dataset:\n",
    "df.info()"
   ]
  },
  {
   "cell_type": "code",
   "execution_count": 43,
   "id": "cfd9e4b0-47d7-4431-bf7c-6c6e151db6de",
   "metadata": {},
   "outputs": [
    {
     "data": {
      "text/html": [
       "<div>\n",
       "<style scoped>\n",
       "    .dataframe tbody tr th:only-of-type {\n",
       "        vertical-align: middle;\n",
       "    }\n",
       "\n",
       "    .dataframe tbody tr th {\n",
       "        vertical-align: top;\n",
       "    }\n",
       "\n",
       "    .dataframe thead th {\n",
       "        text-align: right;\n",
       "    }\n",
       "</style>\n",
       "<table border=\"1\" class=\"dataframe\">\n",
       "  <thead>\n",
       "    <tr style=\"text-align: right;\">\n",
       "      <th></th>\n",
       "      <th>CustomerID</th>\n",
       "      <th>Age</th>\n",
       "      <th>Annual Income (k$)</th>\n",
       "      <th>Spending Score (1-100)</th>\n",
       "    </tr>\n",
       "  </thead>\n",
       "  <tbody>\n",
       "    <tr>\n",
       "      <th>count</th>\n",
       "      <td>200.000000</td>\n",
       "      <td>200.000000</td>\n",
       "      <td>200.000000</td>\n",
       "      <td>200.000000</td>\n",
       "    </tr>\n",
       "    <tr>\n",
       "      <th>mean</th>\n",
       "      <td>100.500000</td>\n",
       "      <td>38.850000</td>\n",
       "      <td>60.560000</td>\n",
       "      <td>50.200000</td>\n",
       "    </tr>\n",
       "    <tr>\n",
       "      <th>std</th>\n",
       "      <td>57.879185</td>\n",
       "      <td>13.969007</td>\n",
       "      <td>26.264721</td>\n",
       "      <td>25.823522</td>\n",
       "    </tr>\n",
       "    <tr>\n",
       "      <th>min</th>\n",
       "      <td>1.000000</td>\n",
       "      <td>18.000000</td>\n",
       "      <td>15.000000</td>\n",
       "      <td>1.000000</td>\n",
       "    </tr>\n",
       "    <tr>\n",
       "      <th>25%</th>\n",
       "      <td>50.750000</td>\n",
       "      <td>28.750000</td>\n",
       "      <td>41.500000</td>\n",
       "      <td>34.750000</td>\n",
       "    </tr>\n",
       "    <tr>\n",
       "      <th>50%</th>\n",
       "      <td>100.500000</td>\n",
       "      <td>36.000000</td>\n",
       "      <td>61.500000</td>\n",
       "      <td>50.000000</td>\n",
       "    </tr>\n",
       "    <tr>\n",
       "      <th>75%</th>\n",
       "      <td>150.250000</td>\n",
       "      <td>49.000000</td>\n",
       "      <td>78.000000</td>\n",
       "      <td>73.000000</td>\n",
       "    </tr>\n",
       "    <tr>\n",
       "      <th>max</th>\n",
       "      <td>200.000000</td>\n",
       "      <td>70.000000</td>\n",
       "      <td>137.000000</td>\n",
       "      <td>99.000000</td>\n",
       "    </tr>\n",
       "  </tbody>\n",
       "</table>\n",
       "</div>"
      ],
      "text/plain": [
       "       CustomerID         Age  Annual Income (k$)  Spending Score (1-100)\n",
       "count  200.000000  200.000000          200.000000              200.000000\n",
       "mean   100.500000   38.850000           60.560000               50.200000\n",
       "std     57.879185   13.969007           26.264721               25.823522\n",
       "min      1.000000   18.000000           15.000000                1.000000\n",
       "25%     50.750000   28.750000           41.500000               34.750000\n",
       "50%    100.500000   36.000000           61.500000               50.000000\n",
       "75%    150.250000   49.000000           78.000000               73.000000\n",
       "max    200.000000   70.000000          137.000000               99.000000"
      ]
     },
     "execution_count": 43,
     "metadata": {},
     "output_type": "execute_result"
    }
   ],
   "source": [
    "df.describe()"
   ]
  },
  {
   "cell_type": "code",
   "execution_count": 44,
   "id": "a0fe4be3-b7f3-4a71-8f12-7253b5503ee3",
   "metadata": {},
   "outputs": [
    {
     "data": {
      "text/plain": [
       "CustomerID                0\n",
       "Gender                    0\n",
       "Age                       0\n",
       "Annual Income (k$)        0\n",
       "Spending Score (1-100)    0\n",
       "dtype: int64"
      ]
     },
     "execution_count": 44,
     "metadata": {},
     "output_type": "execute_result"
    }
   ],
   "source": [
    "# checking for missing values\n",
    "df.isnull().sum()"
   ]
  },
  {
   "cell_type": "code",
   "execution_count": null,
   "id": "9b0aa555-0114-4a7b-877e-bceb11248d24",
   "metadata": {},
   "outputs": [],
   "source": []
  },
  {
   "cell_type": "markdown",
   "id": "cb53f565-27d3-4dc1-83bf-0efaf00a94a8",
   "metadata": {},
   "source": [
    "####  Elbow Curve:"
   ]
  },
  {
   "cell_type": "code",
   "execution_count": 45,
   "id": "1064cc6c-e763-4d60-9ce5-a20137318eaf",
   "metadata": {},
   "outputs": [],
   "source": [
    "# Select the 'Annual Income & Spending Score'\n",
    "X = df.iloc[:,3:].values"
   ]
  },
  {
   "cell_type": "code",
   "execution_count": 46,
   "id": "89502e24-f0c9-4a0a-b144-2bad56b0f551",
   "metadata": {},
   "outputs": [
    {
     "name": "stderr",
     "output_type": "stream",
     "text": [
      "C:\\Users\\dell\\anaconda3\\Lib\\site-packages\\sklearn\\cluster\\_kmeans.py:1429: UserWarning:\n",
      "\n",
      "KMeans is known to have a memory leak on Windows with MKL, when there are less chunks than available threads. You can avoid it by setting the environment variable OMP_NUM_THREADS=1.\n",
      "\n",
      "C:\\Users\\dell\\anaconda3\\Lib\\site-packages\\sklearn\\cluster\\_kmeans.py:1429: UserWarning:\n",
      "\n",
      "KMeans is known to have a memory leak on Windows with MKL, when there are less chunks than available threads. You can avoid it by setting the environment variable OMP_NUM_THREADS=1.\n",
      "\n",
      "C:\\Users\\dell\\anaconda3\\Lib\\site-packages\\sklearn\\cluster\\_kmeans.py:1429: UserWarning:\n",
      "\n",
      "KMeans is known to have a memory leak on Windows with MKL, when there are less chunks than available threads. You can avoid it by setting the environment variable OMP_NUM_THREADS=1.\n",
      "\n",
      "C:\\Users\\dell\\anaconda3\\Lib\\site-packages\\sklearn\\cluster\\_kmeans.py:1429: UserWarning:\n",
      "\n",
      "KMeans is known to have a memory leak on Windows with MKL, when there are less chunks than available threads. You can avoid it by setting the environment variable OMP_NUM_THREADS=1.\n",
      "\n",
      "C:\\Users\\dell\\anaconda3\\Lib\\site-packages\\sklearn\\cluster\\_kmeans.py:1429: UserWarning:\n",
      "\n",
      "KMeans is known to have a memory leak on Windows with MKL, when there are less chunks than available threads. You can avoid it by setting the environment variable OMP_NUM_THREADS=1.\n",
      "\n",
      "C:\\Users\\dell\\anaconda3\\Lib\\site-packages\\sklearn\\cluster\\_kmeans.py:1429: UserWarning:\n",
      "\n",
      "KMeans is known to have a memory leak on Windows with MKL, when there are less chunks than available threads. You can avoid it by setting the environment variable OMP_NUM_THREADS=1.\n",
      "\n",
      "C:\\Users\\dell\\anaconda3\\Lib\\site-packages\\sklearn\\cluster\\_kmeans.py:1429: UserWarning:\n",
      "\n",
      "KMeans is known to have a memory leak on Windows with MKL, when there are less chunks than available threads. You can avoid it by setting the environment variable OMP_NUM_THREADS=1.\n",
      "\n",
      "C:\\Users\\dell\\anaconda3\\Lib\\site-packages\\sklearn\\cluster\\_kmeans.py:1429: UserWarning:\n",
      "\n",
      "KMeans is known to have a memory leak on Windows with MKL, when there are less chunks than available threads. You can avoid it by setting the environment variable OMP_NUM_THREADS=1.\n",
      "\n",
      "C:\\Users\\dell\\anaconda3\\Lib\\site-packages\\sklearn\\cluster\\_kmeans.py:1429: UserWarning:\n",
      "\n",
      "KMeans is known to have a memory leak on Windows with MKL, when there are less chunks than available threads. You can avoid it by setting the environment variable OMP_NUM_THREADS=1.\n",
      "\n",
      "C:\\Users\\dell\\anaconda3\\Lib\\site-packages\\sklearn\\cluster\\_kmeans.py:1429: UserWarning:\n",
      "\n",
      "KMeans is known to have a memory leak on Windows with MKL, when there are less chunks than available threads. You can avoid it by setting the environment variable OMP_NUM_THREADS=1.\n",
      "\n"
     ]
    }
   ],
   "source": [
    "#Finding no. of clustors....\n",
    "wcss = []\n",
    "\n",
    "for i in range(1,11):\n",
    "    km = KMeans(n_clusters=i)\n",
    "    km.fit_predict(X)\n",
    "    wcss.append(km.inertia_)"
   ]
  },
  {
   "cell_type": "code",
   "execution_count": 47,
   "id": "efe2f94e-7fe1-424a-972a-c1f918e03dac",
   "metadata": {},
   "outputs": [
    {
     "data": {
      "image/png": "[encoded data removed]",
      "text/plain": [
       "<Figure size 640x480 with 1 Axes>"
      ]
     },
     "metadata": {},
     "output_type": "display_data"
    }
   ],
   "source": [
    "# plot an elbow graph\n",
    "\n",
    "sns.set()\n",
    "plt.plot(range(1,11), wcss)\n",
    "plt.title('The Elbow Point Graph')\n",
    "plt.xlabel('Number of Clusters')\n",
    "plt.ylabel('WCSS')\n",
    "plt.show()"
   ]
  },
  {
   "cell_type": "markdown",
   "id": "34606a5d-8844-42b9-84ee-0ef5ac4ed0d4",
   "metadata": {},
   "source": [
    "### Optimum Number of Clusters = 8"
   ]
  },
  {
   "cell_type": "code",
   "execution_count": null,
   "id": "d5c98dfa-0a86-42dd-a77f-ab6b98e87e5e",
   "metadata": {},
   "outputs": [],
   "source": []
  },
  {
   "cell_type": "code",
   "execution_count": null,
   "id": "24a3e69a-68d2-46ce-9128-30417c670adb",
   "metadata": {},
   "outputs": [],
   "source": []
  },
  {
   "cell_type": "markdown",
   "id": "41d11ff3-b26f-43f4-8f70-44cddad434b6",
   "metadata": {},
   "source": [
    "## Training the Model:"
   ]
  },
  {
   "cell_type": "code",
   "execution_count": 48,
   "id": "0aad9c78-d4b0-42e9-8a8b-5a0c706af0b8",
   "metadata": {},
   "outputs": [
    {
     "name": "stdout",
     "output_type": "stream",
     "text": [
      "[4 0 4 0 4 0 4 0 4 0 4 0 4 0 4 0 4 0 4 0 4 0 4 0 4 0 4 0 4 0 4 0 4 0 4 0 4\n",
      " 0 4 0 1 0 1 1 4 1 1 1 1 1 1 1 1 1 1 1 1 1 1 1 1 1 1 1 1 1 1 1 1 1 1 1 1 1\n",
      " 1 1 1 1 1 6 1 1 6 1 1 1 1 1 1 6 6 6 6 6 6 6 6 6 6 6 6 6 6 6 6 6 6 6 6 6 6\n",
      " 6 6 6 6 6 6 6 6 6 6 6 6 7 6 7 6 7 3 7 3 7 6 7 3 7 3 7 3 7 3 7 6 7 3 7 6 7\n",
      " 3 7 3 7 3 7 3 7 3 7 3 7 6 7 3 7 3 2 3 7 3 2 3 2 3 7 3 7 3 2 3 5 3 5 3 5 3\n",
      " 5 3 2 3 5 3 2 3 5 3 5 3 5 3 5]\n"
     ]
    },
    {
     "name": "stderr",
     "output_type": "stream",
     "text": [
      "C:\\Users\\dell\\anaconda3\\Lib\\site-packages\\sklearn\\cluster\\_kmeans.py:1429: UserWarning:\n",
      "\n",
      "KMeans is known to have a memory leak on Windows with MKL, when there are less chunks than available threads. You can avoid it by setting the environment variable OMP_NUM_THREADS=1.\n",
      "\n"
     ]
    }
   ],
   "source": [
    "\n",
    "km = KMeans(n_clusters=8)\n",
    "y_means = km.fit_predict(X)\n",
    "print(y_means)"
   ]
  },
  {
   "cell_type": "code",
   "execution_count": 49,
   "id": "4910f082-ed1a-4660-83fd-4627862105c0",
   "metadata": {},
   "outputs": [
    {
     "data": {
      "text/plain": [
       "array([[15, 81],\n",
       "       [16, 77],\n",
       "       [17, 76],\n",
       "       [18, 94],\n",
       "       [19, 72],\n",
       "       [19, 99],\n",
       "       [20, 77],\n",
       "       [20, 79],\n",
       "       [21, 66],\n",
       "       [23, 98],\n",
       "       [24, 73],\n",
       "       [25, 73],\n",
       "       [28, 82],\n",
       "       [28, 61],\n",
       "       [29, 87],\n",
       "       [30, 73],\n",
       "       [33, 92],\n",
       "       [33, 81],\n",
       "       [34, 73],\n",
       "       [37, 75],\n",
       "       [38, 92]], dtype=int64)"
      ]
     },
     "execution_count": 49,
     "metadata": {},
     "output_type": "execute_result"
    }
   ],
   "source": [
    "X[y_means==0] #the rows that are in cluster-0"
   ]
  },
  {
   "cell_type": "code",
   "execution_count": 50,
   "id": "d5425540-c219-4ef6-a7cd-d7fe2a166558",
   "metadata": {},
   "outputs": [
    {
     "data": {
      "text/plain": [
       "array([[38, 35],\n",
       "       [39, 36],\n",
       "       [39, 61],\n",
       "       [39, 65],\n",
       "       [40, 55],\n",
       "       [40, 47],\n",
       "       [40, 42],\n",
       "       [40, 42],\n",
       "       [42, 52],\n",
       "       [42, 60],\n",
       "       [43, 54],\n",
       "       [43, 60],\n",
       "       [43, 45],\n",
       "       [43, 41],\n",
       "       [44, 50],\n",
       "       [44, 46],\n",
       "       [46, 51],\n",
       "       [46, 46],\n",
       "       [46, 56],\n",
       "       [46, 55],\n",
       "       [47, 52],\n",
       "       [47, 59],\n",
       "       [48, 51],\n",
       "       [48, 59],\n",
       "       [48, 50],\n",
       "       [48, 48],\n",
       "       [48, 59],\n",
       "       [48, 47],\n",
       "       [49, 55],\n",
       "       [49, 42],\n",
       "       [50, 49],\n",
       "       [50, 56],\n",
       "       [54, 47],\n",
       "       [54, 54],\n",
       "       [54, 53],\n",
       "       [54, 48],\n",
       "       [54, 52],\n",
       "       [54, 51],\n",
       "       [54, 55],\n",
       "       [54, 44],\n",
       "       [54, 57],\n",
       "       [54, 46],\n",
       "       [57, 58],\n",
       "       [57, 55],\n",
       "       [58, 60]], dtype=int64)"
      ]
     },
     "execution_count": 50,
     "metadata": {},
     "output_type": "execute_result"
    }
   ],
   "source": [
    "X[y_means==1] #the rows that are in cluster-1"
   ]
  },
  {
   "cell_type": "code",
   "execution_count": 51,
   "id": "45fa21d0-0cf7-4497-a3ff-a182a9fc1a47",
   "metadata": {},
   "outputs": [
    {
     "data": {
      "text/plain": [
       "array([[ 85,  75],\n",
       "       [ 87,  63],\n",
       "       [ 87,  75],\n",
       "       [ 88,  69],\n",
       "       [101,  68],\n",
       "       [103,  69]], dtype=int64)"
      ]
     },
     "execution_count": 51,
     "metadata": {},
     "output_type": "execute_result"
    }
   ],
   "source": [
    "X[y_means==2] #the rows that are in cluster-2"
   ]
  },
  {
   "cell_type": "code",
   "execution_count": 52,
   "id": "1a44f930-de7d-4a9c-ba70-0e815e871f1a",
   "metadata": {},
   "outputs": [
    {
     "data": {
      "text/plain": [
       "array([[ 71,  11],\n",
       "       [ 71,   9],\n",
       "       [ 73,   5],\n",
       "       [ 73,   7],\n",
       "       [ 74,  10],\n",
       "       [ 75,   5],\n",
       "       [ 77,  12],\n",
       "       [ 78,  22],\n",
       "       [ 78,  17],\n",
       "       [ 78,  20],\n",
       "       [ 78,  16],\n",
       "       [ 78,   1],\n",
       "       [ 78,   1],\n",
       "       [ 81,   5],\n",
       "       [ 85,  26],\n",
       "       [ 86,  20],\n",
       "       [ 87,  27],\n",
       "       [ 87,  13],\n",
       "       [ 87,  10],\n",
       "       [ 88,  13],\n",
       "       [ 88,  15],\n",
       "       [ 93,  14],\n",
       "       [ 97,  32],\n",
       "       [ 98,  15],\n",
       "       [ 99,  39],\n",
       "       [101,  24],\n",
       "       [103,  17],\n",
       "       [103,  23],\n",
       "       [113,   8],\n",
       "       [120,  16],\n",
       "       [126,  28],\n",
       "       [137,  18]], dtype=int64)"
      ]
     },
     "execution_count": 52,
     "metadata": {},
     "output_type": "execute_result"
    }
   ],
   "source": [
    "X[y_means==3] #the rows that are in cluster-3"
   ]
  },
  {
   "cell_type": "code",
   "execution_count": 53,
   "id": "6b0ef35f-37e3-463a-aa48-480554029cd2",
   "metadata": {},
   "outputs": [
    {
     "data": {
      "text/plain": [
       "array([[15, 39],\n",
       "       [16,  6],\n",
       "       [17, 40],\n",
       "       [18,  6],\n",
       "       [19,  3],\n",
       "       [19, 14],\n",
       "       [20, 15],\n",
       "       [20, 13],\n",
       "       [21, 35],\n",
       "       [23, 29],\n",
       "       [24, 35],\n",
       "       [25,  5],\n",
       "       [28, 14],\n",
       "       [28, 32],\n",
       "       [29, 31],\n",
       "       [30,  4],\n",
       "       [33,  4],\n",
       "       [33, 14],\n",
       "       [34, 17],\n",
       "       [37, 26],\n",
       "       [39, 28]], dtype=int64)"
      ]
     },
     "execution_count": 53,
     "metadata": {},
     "output_type": "execute_result"
    }
   ],
   "source": [
    "X[y_means==4] #the rows that are in cluster-4"
   ]
  },
  {
   "cell_type": "code",
   "execution_count": 54,
   "id": "32b60d97-2973-4774-b61e-0f11a5f993ce",
   "metadata": {},
   "outputs": [
    {
     "data": {
      "text/plain": [
       "array([[ 93,  90],\n",
       "       [ 97,  86],\n",
       "       [ 98,  88],\n",
       "       [ 99,  97],\n",
       "       [103,  85],\n",
       "       [113,  91],\n",
       "       [120,  79],\n",
       "       [126,  74],\n",
       "       [137,  83]], dtype=int64)"
      ]
     },
     "execution_count": 54,
     "metadata": {},
     "output_type": "execute_result"
    }
   ],
   "source": [
    "X[y_means==5] #the rows that are in cluster-5"
   ]
  },
  {
   "cell_type": "code",
   "execution_count": 55,
   "id": "f9080adb-49df-4eb4-bb75-e07cd5b4b790",
   "metadata": {},
   "outputs": [
    {
     "data": {
      "text/plain": [
       "array([[54, 42],\n",
       "       [54, 41],\n",
       "       [58, 46],\n",
       "       [59, 55],\n",
       "       [59, 41],\n",
       "       [60, 49],\n",
       "       [60, 40],\n",
       "       [60, 42],\n",
       "       [60, 52],\n",
       "       [60, 47],\n",
       "       [60, 50],\n",
       "       [61, 42],\n",
       "       [61, 49],\n",
       "       [62, 41],\n",
       "       [62, 48],\n",
       "       [62, 59],\n",
       "       [62, 55],\n",
       "       [62, 56],\n",
       "       [62, 42],\n",
       "       [63, 50],\n",
       "       [63, 46],\n",
       "       [63, 43],\n",
       "       [63, 48],\n",
       "       [63, 52],\n",
       "       [63, 54],\n",
       "       [64, 42],\n",
       "       [64, 46],\n",
       "       [65, 48],\n",
       "       [65, 50],\n",
       "       [65, 43],\n",
       "       [65, 59],\n",
       "       [67, 43],\n",
       "       [67, 57],\n",
       "       [67, 56],\n",
       "       [67, 40],\n",
       "       [69, 58],\n",
       "       [70, 29],\n",
       "       [71, 35],\n",
       "       [72, 34],\n",
       "       [76, 40],\n",
       "       [77, 36],\n",
       "       [79, 35]], dtype=int64)"
      ]
     },
     "execution_count": 55,
     "metadata": {},
     "output_type": "execute_result"
    }
   ],
   "source": [
    "X[y_means==6] #the rows that are in cluster-6"
   ]
  },
  {
   "cell_type": "code",
   "execution_count": 56,
   "id": "3dd53f54-a43f-4f61-a352-3104b97a1e30",
   "metadata": {},
   "outputs": [
    {
     "data": {
      "text/plain": [
       "array([[69, 91],\n",
       "       [70, 77],\n",
       "       [71, 95],\n",
       "       [71, 75],\n",
       "       [71, 75],\n",
       "       [72, 71],\n",
       "       [73, 88],\n",
       "       [73, 73],\n",
       "       [74, 72],\n",
       "       [75, 93],\n",
       "       [76, 87],\n",
       "       [77, 97],\n",
       "       [77, 74],\n",
       "       [78, 90],\n",
       "       [78, 88],\n",
       "       [78, 76],\n",
       "       [78, 89],\n",
       "       [78, 78],\n",
       "       [78, 73],\n",
       "       [79, 83],\n",
       "       [81, 93],\n",
       "       [86, 95],\n",
       "       [87, 92],\n",
       "       [88, 86]], dtype=int64)"
      ]
     },
     "execution_count": 56,
     "metadata": {},
     "output_type": "execute_result"
    }
   ],
   "source": [
    "X[y_means==7] #the rows that are in cluster-7"
   ]
  },
  {
   "cell_type": "code",
   "execution_count": null,
   "id": "ece060da-7377-461e-b9dc-2eeb948688a6",
   "metadata": {},
   "outputs": [],
   "source": []
  },
  {
   "cell_type": "code",
   "execution_count": null,
   "id": "0387b353-2902-43f8-922f-50dcdc7fbbab",
   "metadata": {},
   "outputs": [],
   "source": []
  },
  {
   "cell_type": "code",
   "execution_count": 58,
   "id": "8dff88ea-e327-4671-9837-956e0dab6ea5",
   "metadata": {},
   "outputs": [
    {
     "data": {
      "image/png": "[encoded data removed]",
      "text/plain": [
       "<Figure size 640x480 with 1 Axes>"
      ]
     },
     "metadata": {},
     "output_type": "display_data"
    }
   ],
   "source": [
    "# Draw 8-Clusters Plot:\n",
    "\n",
    "plt.scatter(X[y_means == 0,0],X[y_means == 0,1],color='blue')\n",
    "plt.scatter(X[y_means == 1,0],X[y_means == 1,1],color='red')\n",
    "plt.scatter(X[y_means == 2,0],X[y_means == 2,1],color='green')\n",
    "plt.scatter(X[y_means == 3,0],X[y_means == 3,1],color='yellow')\n",
    "plt.scatter(X[y_means == 4,0],X[y_means == 4,1],color='pink')\n",
    "plt.scatter(X[y_means == 5,0],X[y_means == 5,1],color='black')\n",
    "plt.scatter(X[y_means == 6,0],X[y_means == 6,1],color='brown')\n",
    "plt.scatter(X[y_means == 7,0],X[y_means == 7,1],color='grey')\n",
    "\n",
    "plt.title('Customer Groups')\n",
    "plt.xlabel('Annual Income')\n",
    "plt.ylabel('Spending Score')\n",
    "plt.show()"
   ]
  },
  {
   "cell_type": "code",
   "execution_count": null,
   "id": "763a7d63-7a36-4a8b-b663-d5eb810ba922",
   "metadata": {},
   "outputs": [],
   "source": []
  },
  {
   "cell_type": "markdown",
   "id": "23f1d25c-1146-4e99-9004-95fc00d5d463",
   "metadata": {},
   "source": [
    "## K-Means on 3D Data:"
   ]
  },
  {
   "cell_type": "code",
   "execution_count": 59,
   "id": "d8579e22-9ebd-459f-9c11-c89e86ab3f74",
   "metadata": {},
   "outputs": [],
   "source": [
    "from sklearn.datasets import make_blobs\n",
    "\n",
    "# Define 8 centroids for 8 clusters\n",
    "centroids = [\n",
    "    (-5, -5, 5), (5, 5, -5), (3.5, -2.5, 4), (-2.5, 2.5, -4),\n",
    "    (-3, 3, 3), (3, -3, -3), (-4, -4, 4), (4, 4, -4)\n",
    "]\n",
    "cluster_std = [1, 1, 1, 1, 1, 1, 1, 1]  # 8 standard deviations\n",
    "\n",
    "# Generate 3D clusters\n",
    "X, y = make_blobs(n_samples=200, cluster_std=cluster_std, centers=centroids, n_features=3, random_state=1)\n"
   ]
  },
  {
   "cell_type": "code",
   "execution_count": 60,
   "id": "dce24064-f883-4158-a218-431f925b15a6",
   "metadata": {},
   "outputs": [
    {
     "data": {
      "text/plain": [
       "array([[-3.16575452,  0.82580419, -3.17497018],\n",
       "       [-4.82246719, -3.27828871,  3.374658  ],\n",
       "       [-6.07296862, -4.13459237,  2.6984613 ],\n",
       "       [ 5.40465871, -1.3889433 ,  4.6590498 ],\n",
       "       [-4.10839207, -3.54984449,  5.7653351 ],\n",
       "       [-1.61509119,  1.62271848, -4.86778722],\n",
       "       [ 5.31515939,  5.84616065, -5.85951594],\n",
       "       [-3.32542929, -2.53910762,  4.5924728 ],\n",
       "       [ 4.65614632,  5.04359686, -5.62000084],\n",
       "       [-2.58450803,  2.20263812, -3.582698  ],\n",
       "       [ 6.19891788,  5.18515642, -5.37528495],\n",
       "       [ 3.1735005 , -3.84267579,  5.11438298],\n",
       "       [ 3.76994186,  5.5505375 , -4.20719313],\n",
       "       [-5.40232915, -3.54887706,  3.3050791 ],\n",
       "       [ 2.22744124, -2.18645228,  4.50318481],\n",
       "       [-4.8088472 , -3.44256055,  4.18103874],\n",
       "       [-3.79726979,  3.28267571,  2.17390257],\n",
       "       [ 3.56438286, -0.86217193, -3.785534  ],\n",
       "       [-1.80731393,  2.76205806,  4.15528789],\n",
       "       [-2.3789173 ,  3.9561217 ,  2.29415949],\n",
       "       [ 3.38422765,  6.12141771, -4.59109946],\n",
       "       [-3.44222928,  3.32352735,  2.89000851],\n",
       "       [ 5.01382247,  1.77288737, -5.6993336 ],\n",
       "       [-5.3224172 , -5.38405435,  6.13376944],\n",
       "       [ 4.73378149,  5.03261455, -6.37311732],\n",
       "       [-2.29816982,  3.16102029, -2.20784179],\n",
       "       [-4.4189379 , -4.47918492,  2.04789471],\n",
       "       [-3.19022103,  2.55126197,  2.32755196],\n",
       "       [ 3.62910158, -0.8830504 ,  4.50274088],\n",
       "       [ 4.03494359,  5.45391758, -3.33831892],\n",
       "       [-5.03720123,  1.05741082,  0.49355935],\n",
       "       [ 2.37798127, -3.01709446,  3.00297317],\n",
       "       [ 2.60944442, -3.6191154 ,  5.9560789 ],\n",
       "       [-6.09989127, -5.17242821,  4.12214158],\n",
       "       [-4.53223402, -2.8818666 ,  4.6743961 ],\n",
       "       [-0.05063135,  1.95422583, -4.19883786],\n",
       "       [ 5.52946532,  5.13770121, -4.92217887],\n",
       "       [ 5.03298378,  3.77758597, -2.52983966],\n",
       "       [ 2.5208429 , -2.64983284, -2.98283527],\n",
       "       [-2.67572576,  3.02186284,  2.53132618],\n",
       "       [-5.74715829, -3.3075454 ,  5.05080775],\n",
       "       [ 4.98635218,  3.53384514, -2.61500866],\n",
       "       [ 5.19829972,  5.11900865, -5.67066229],\n",
       "       [ 5.05880554, -2.3905973 ,  2.7802556 ],\n",
       "       [ 5.01120706,  2.52343734, -4.14319575],\n",
       "       [ 3.80884436, -1.21024532, -2.54871598],\n",
       "       [ 3.08646441, -5.14246673, -3.83016886],\n",
       "       [ 1.87256166, -1.89768072,  4.4202822 ],\n",
       "       [-2.89282455, -2.55712307,  3.46031844],\n",
       "       [ 5.35054598,  3.68771659, -5.03869551],\n",
       "       [-3.61647002,  2.5809271 , -4.18657899],\n",
       "       [ 2.82454103, -3.93391466, -3.53302033],\n",
       "       [ 2.95029742, -2.53335673, -1.96631313],\n",
       "       [ 3.54005717,  4.64435367, -3.62832971],\n",
       "       [ 6.96710175,  3.14201814, -3.76383597],\n",
       "       [ 5.86334532,  4.8190797 , -5.60392063],\n",
       "       [ 2.8865639 ,  3.93258998, -2.83856002],\n",
       "       [ 1.57344458, -1.23204005, -3.47537288],\n",
       "       [ 3.61798553, -3.18417633, -3.11598519],\n",
       "       [-3.89662042,  1.63868364, -3.32528847],\n",
       "       [-5.84520564, -5.67124613,  4.9873354 ],\n",
       "       [-3.91031359, -4.6011568 ,  4.55607351],\n",
       "       [-4.25898285, -3.8107068 ,  3.43621127],\n",
       "       [-3.942879  , -4.79954749,  3.7084054 ],\n",
       "       [-2.5388359 ,  1.82401733,  4.01012718],\n",
       "       [ 2.97779878,  4.69379599, -4.17202536],\n",
       "       [-3.59980453,  4.12341216,  3.30526704],\n",
       "       [ 4.31095167, -1.45555791,  3.59912181],\n",
       "       [-5.75439794, -3.74713184,  5.51292982],\n",
       "       [ 3.72415394,  5.22895559, -2.69029409],\n",
       "       [ 2.57085772, -1.79154367, -1.8842982 ],\n",
       "       [-5.293085  ,  4.43752881, -3.63366799],\n",
       "       [-3.2003985 ,  2.29660555, -3.75733056],\n",
       "       [ 3.36355526, -2.61905419,  4.01740941],\n",
       "       [ 5.61838026,  5.23249456, -4.31744859],\n",
       "       [-2.07047386,  1.8930016 , -3.89377728],\n",
       "       [-3.80572692,  2.15501279, -4.23083974],\n",
       "       [ 4.40148689,  0.02832571,  3.75136522],\n",
       "       [-4.87984105, -4.38279689,  5.30017032],\n",
       "       [-2.56183365,  4.12232832,  2.0029802 ],\n",
       "       [-4.82862798, -3.47112025,  1.76291349],\n",
       "       [ 5.23009474,  5.76201118, -5.22232814],\n",
       "       [ 4.37245685,  3.8515102 , -4.1834002 ],\n",
       "       [ 5.85300949,  4.14225137, -3.48649452],\n",
       "       [-5.63699565, -4.80908452,  7.10025514],\n",
       "       [ 4.63658341,  5.40925339, -2.37908771],\n",
       "       [ 3.32529684, -1.51366481,  4.2135339 ],\n",
       "       [-5.24937038, -3.53789206,  2.93985929],\n",
       "       [ 5.40349164,  5.59357852, -6.09491185],\n",
       "       [-5.16400797, -3.30663377,  3.24193267],\n",
       "       [ 4.79322588, -2.61044703,  3.38263794],\n",
       "       [ 3.64659002,  2.21208711, -3.63815268],\n",
       "       [ 4.14164054,  1.48369614, -4.59566788],\n",
       "       [ 5.11060505, -4.30653407, -2.92361952],\n",
       "       [ 4.71304905,  5.30620607, -4.60460297],\n",
       "       [-6.11731035, -4.7655843 ,  6.65980218],\n",
       "       [ 4.36126959,  5.42349435, -4.92265993],\n",
       "       [ 4.12336218, -2.93495668,  5.40754   ],\n",
       "       [ 6.62765075,  5.3380117 , -6.19926803],\n",
       "       [-5.69166075, -5.39675353,  4.3128273 ],\n",
       "       [ 5.69069973, -4.39636092,  3.35308331],\n",
       "       [-3.86837061, -3.48018318,  7.18557541],\n",
       "       [ 5.37756379,  5.12182127, -3.87051609],\n",
       "       [-2.28887524,  2.51652757, -3.82281228],\n",
       "       [-4.11877117, -4.19899818,  5.86647138],\n",
       "       [ 3.57550721,  3.26846902, -5.56573815],\n",
       "       [ 3.69087868,  4.51093777, -2.28933816],\n",
       "       [-2.14671878,  2.58697069,  4.83471763],\n",
       "       [-3.70134443,  2.46277698,  3.15626385],\n",
       "       [ 2.84501737,  3.8223678 , -5.51045638],\n",
       "       [-1.6112206 ,  2.33865576,  6.03085711],\n",
       "       [-2.55682448,  2.99233656, -4.68067814],\n",
       "       [ 3.47761018, -4.02188594, -2.20547176],\n",
       "       [-4.91844004, -4.10534471,  4.63019567],\n",
       "       [-2.99145105,  2.83180116,  2.82581966],\n",
       "       [ 3.86028827,  5.38631426, -3.45187042],\n",
       "       [-3.37565464, -5.61175641,  4.47182825],\n",
       "       [-3.87162301, -2.23958482,  4.96653925],\n",
       "       [ 1.31594001, -4.1601701 , -1.64989318],\n",
       "       [ 3.54366899, -2.72631424,  5.33145711],\n",
       "       [ 5.80186103,  5.0465673 , -5.18656977],\n",
       "       [-2.3659518 ,  3.70205486, -3.71525189],\n",
       "       [-3.10679399,  4.45142926,  2.38196315],\n",
       "       [ 3.84086156, -3.10288722, -1.85309962],\n",
       "       [-2.30619089, -3.80313022,  4.16986926],\n",
       "       [ 4.37646927,  5.52057634, -6.14434139],\n",
       "       [-0.93421668,  1.52884307,  2.1698281 ],\n",
       "       [ 2.91347606, -3.73685338,  4.87583893],\n",
       "       [-2.48492639,  0.21746553,  3.58464661],\n",
       "       [ 4.97538304,  4.22483838, -3.72624407],\n",
       "       [ 5.05635552, -1.23975077, -3.06065249],\n",
       "       [ 4.79924193,  5.18656139, -4.58994835],\n",
       "       [ 3.97247061,  5.74643509, -4.77507029],\n",
       "       [-3.85527629, -4.09840928,  5.50249434],\n",
       "       [-1.71522935,  1.54457474, -3.41408957],\n",
       "       [ 1.24407436, -2.2852104 , -2.14729594],\n",
       "       [ 2.77123417, -1.38663863, -3.37480469],\n",
       "       [ 5.68697965, -2.05863556,  3.89984477],\n",
       "       [ 3.71100266,  3.60818376, -3.31599867],\n",
       "       [ 3.12999178,  4.36919047, -3.14671781],\n",
       "       [ 5.69803203,  4.55287144, -3.7754923 ],\n",
       "       [-3.54458938,  4.55117344, -3.414338  ],\n",
       "       [-3.94087602,  3.73225307, -4.25417987],\n",
       "       [-4.59384307, -4.34390071,  2.99983081],\n",
       "       [-5.93576943, -5.26788808,  5.53035547],\n",
       "       [-1.66399528,  4.04335911, -3.24119434],\n",
       "       [ 3.18988323, -4.93483776,  5.0388246 ],\n",
       "       [-5.29809284, -4.51148185,  4.92442829],\n",
       "       [-2.80216916, -2.29540583,  5.04008915],\n",
       "       [ 3.4268873 , -1.33966143,  4.36949272],\n",
       "       [ 3.19381518,  3.74832579, -3.61728483],\n",
       "       [-2.99821356,  2.18901502, -4.00189148],\n",
       "       [ 3.36723181, -1.76710081, -3.42285696],\n",
       "       [-2.17541537,  3.65458015,  2.94881155],\n",
       "       [-2.62046457,  1.26687926, -5.18231813],\n",
       "       [-2.98664732,  2.3053064 ,  3.6218035 ],\n",
       "       [ 5.16938243,  5.74055645, -5.9537006 ],\n",
       "       [-3.1290302 , -4.50845713,  4.77741921],\n",
       "       [ 1.12683902, -2.07938488, -3.03536792],\n",
       "       [-1.10015606,  1.71808832, -4.43750898],\n",
       "       [ 4.32400562, -3.06230543,  5.95487808],\n",
       "       [-3.25518824, -5.7612069 ,  5.3190391 ],\n",
       "       [-4.95778625, -4.41718479,  3.89938082],\n",
       "       [ 2.25003038, -0.9453759 , -2.94659046],\n",
       "       [-2.64750564,  2.76356305,  3.7278135 ],\n",
       "       [ 4.89825413,  5.86888616, -4.24958836],\n",
       "       [-4.83996293, -4.12383108,  5.31563495],\n",
       "       [ 0.586497  , -4.77756638, -3.77785883],\n",
       "       [ 4.11584111, -2.68972771, -5.09424782],\n",
       "       [-4.25795584, -5.19183555,  4.11237104],\n",
       "       [-2.40457491,  3.42145007, -3.9392498 ],\n",
       "       [-6.39649634, -6.44411381,  4.49553414],\n",
       "       [-2.23753255,  2.7764993 , -4.7332716 ],\n",
       "       [ 3.0353601 , -4.53879325, -3.44789518],\n",
       "       [ 3.74879916, -2.79664115,  4.49521132],\n",
       "       [-1.88146087,  2.05682807, -2.18946509],\n",
       "       [ 4.10734329,  2.60118718, -3.91823218],\n",
       "       [ 2.66871683, -2.61346085, -3.85145566],\n",
       "       [ 3.45161595, -1.89582567, -3.28173627],\n",
       "       [-4.09914405, -5.68372786,  4.87710977],\n",
       "       [-3.4845862 , -5.11487105,  3.23269017],\n",
       "       [-2.95500559, -3.3914853 ,  3.9306713 ],\n",
       "       [-3.55749472,  3.93916874,  1.05667659],\n",
       "       [-3.72559712,  2.13223132,  2.86402267],\n",
       "       [ 4.00088142, -3.38483225, -1.54189176],\n",
       "       [-5.35224985, -6.1425182 ,  4.65065728],\n",
       "       [-4.4148469 , -3.54805396,  2.42084371],\n",
       "       [-4.06889792, -4.71441267,  5.88514116],\n",
       "       [-4.02568032,  3.29502609, -4.37443832],\n",
       "       [ 2.16804833, -4.26068856,  2.34927873],\n",
       "       [-4.72239191, -2.90100367,  3.09836551],\n",
       "       [-5.1077125 , -4.01771832,  2.28060553],\n",
       "       [ 4.0627611 , -2.25926291,  4.28066508],\n",
       "       [-5.11416392,  2.58836084,  4.27852808],\n",
       "       [-2.07998207,  2.80494266,  3.80539342],\n",
       "       [ 3.21269214, -1.81993016,  3.6801984 ],\n",
       "       [ 2.36255041,  7.9586027 , -3.35135636],\n",
       "       [-5.20889423, -4.41337681,  5.83898341],\n",
       "       [-3.8805776 ,  2.72090228,  4.62284909],\n",
       "       [ 5.1010002 ,  4.78002714, -4.6294416 ]])"
      ]
     },
     "execution_count": 60,
     "metadata": {},
     "output_type": "execute_result"
    }
   ],
   "source": [
    "X"
   ]
  },
  {
   "cell_type": "code",
   "execution_count": 62,
   "id": "59304150-c28b-4e52-a798-27c2e517beda",
   "metadata": {},
   "outputs": [
    {
     "data": {
      "application/vnd.plotly.v1+json": {
       "config": {
        "plotlyServerURL": "https://plot.ly"
       },
       "data": [
        {
         "hovertemplate": "x=%{x}<br>y=%{y}<br>z=%{z}<br>Cluster=%{marker.color}<extra></extra>",
         "legendgroup": "",
         "marker": {
          "color": [
           3,
           6,
           0,
           2,
           6,
           3,
           1,
           6,
           1,
           3,
           1,
           2,
           1,
           6,
           2,
           6,
           4,
           5,
           4,
           4,
           1,
           4,
           7,
           0,
           1,
           3,
           6,
           4,
           2,
           7,
           4,
           2,
           2,
           0,
           6,
           3,
           1,
           7,
           5,
           4,
           0,
           7,
           1,
           2,
           7,
           5,
           5,
           2,
           6,
           1,
           3,
           5,
           5,
           7,
           1,
           1,
           7,
           5,
           5,
           3,
           0,
           6,
           6,
           6,
           4,
           1,
           4,
           2,
           0,
           7,
           5,
           3,
           3,
           2,
           1,
           3,
           3,
           2,
           0,
           4,
           6,
           1,
           7,
           7,
           0,
           7,
           2,
           0,
           1,
           6,
           2,
           7,
           7,
           5,
           7,
           0,
           1,
           2,
           1,
           0,
           2,
           0,
           1,
           3,
           6,
           7,
           7,
           4,
           4,
           7,
           4,
           3,
           5,
           6,
           4,
           7,
           0,
           6,
           5,
           2,
           1,
           3,
           4,
           5,
           6,
           1,
           4,
           2,
           4,
           1,
           5,
           1,
           7,
           0,
           3,
           5,
           5,
           2,
           7,
           7,
           1,
           3,
           3,
           6,
           0,
           3,
           2,
           0,
           6,
           2,
           7,
           3,
           5,
           4,
           3,
           4,
           1,
           6,
           5,
           3,
           2,
           0,
           0,
           5,
           4,
           1,
           0,
           5,
           5,
           0,
           3,
           0,
           3,
           5,
           2,
           3,
           7,
           5,
           5,
           0,
           6,
           6,
           4,
           4,
           5,
           0,
           6,
           0,
           3,
           2,
           6,
           6,
           2,
           4,
           4,
           2,
           7,
           0,
           4,
           7
          ],
          "coloraxis": "coloraxis",
          "symbol": "circle"
         },
         "mode": "markers",
         "name": "",
         "scene": "scene",
         "showlegend": false,
         "type": "scatter3d",
         "x": [
          -3.1657545181991265,
          -4.822467188904252,
          -6.0729686221561705,
          5.404658708340981,
          -4.10839206717354,
          -1.6150911855351167,
          5.3151593920422915,
          -3.3254292930439964,
          4.656146324428924,
          -2.5845080274046297,
          6.198917879901507,
          3.173500501921816,
          3.7699418643330382,
          -5.402329145453137,
          2.2274412447540057,
          -4.808847196472128,
          -3.7972697854931297,
          3.5643828554943138,
          -1.8073139322453065,
          -2.3789172991609915,
          3.384227645296705,
          -3.442229279513173,
          5.013822466971705,
          -5.322417204013507,
          4.733781493996378,
          -2.2981698211259958,
          -4.4189378976781235,
          -3.1902210250848615,
          3.6291015797107256,
          4.03494358936374,
          -5.0372012256807945,
          2.3779812712531117,
          2.6094444158369514,
          -6.099891267314031,
          -4.532234020898177,
          -0.050631350938602715,
          5.529465324352709,
          5.032983778949751,
          2.52084290121392,
          -2.675725756551579,
          -5.747158293750838,
          4.986352180212064,
          5.198299720126769,
          5.0588055406198595,
          5.011207063774909,
          3.808844360265682,
          3.0864644065242874,
          1.8725616593837426,
          -2.8928245490509377,
          5.350545978664107,
          -3.6164700178847444,
          2.8245410313382475,
          2.950297420841324,
          3.540057169159313,
          6.967101749254734,
          5.863345317544022,
          2.8865638970270098,
          1.573444579479468,
          3.6179855339203346,
          -3.896620424595432,
          -5.84520564149872,
          -3.9103135926774097,
          -4.258982853400532,
          -3.942879003917908,
          -2.5388359000229825,
          2.977798784175997,
          -3.5998045310708475,
          4.310951672803556,
          -5.754397940996653,
          3.7241539374388566,
          2.5708577217649062,
          -5.29308500014654,
          -3.200398504921255,
          3.3635552561039668,
          5.618380261998524,
          -2.0704738599780357,
          -3.8057269225577377,
          4.401486891648711,
          -4.8798410475183704,
          -2.5618336527087626,
          -4.828627978856406,
          5.230094735364384,
          4.372456851511442,
          5.853009485069379,
          -5.636995646569353,
          4.636583409414631,
          3.325296840257499,
          -5.24937037547741,
          5.4034916417908,
          -5.164007971161202,
          4.793225882532262,
          3.6465900171329855,
          4.141640537665805,
          5.110605053600709,
          4.713049050303269,
          -6.117310348635278,
          4.361269592545778,
          4.123362176578032,
          6.627650753148906,
          -5.691660751725309,
          5.690699728969733,
          -3.8683706125485733,
          5.37756378632092,
          -2.2888752449922833,
          -4.118771172103089,
          3.5755072094290727,
          3.690878681358138,
          -2.1467187780443777,
          -3.701344426257177,
          2.8450173650706354,
          -1.6112206036297316,
          -2.5568244808858474,
          3.4776101818175573,
          -4.918440038300026,
          -2.991451054563975,
          3.8602882695589273,
          -3.3756546363367583,
          -3.871623009844056,
          1.3159400141317628,
          3.543668993178389,
          5.801861031871344,
          -2.365951803445377,
          -3.106793986779225,
          3.840861558141104,
          -2.306190886711919,
          4.376469270320208,
          -0.9342166797811657,
          2.9134760611784074,
          -2.4849263863606343,
          4.9753830441242215,
          5.0563555231982935,
          4.799241931070003,
          3.972470613732022,
          -3.855276290160386,
          -1.7152293489844106,
          1.2440743597671482,
          2.7712341711298376,
          5.686979646974258,
          3.711002656990184,
          3.129991776809148,
          5.698032034072219,
          -3.544589381907792,
          -3.94087602429184,
          -4.593843067254509,
          -5.935769434259068,
          -1.6639952805657312,
          3.18988322648194,
          -5.2980928351027154,
          -2.802169158278749,
          3.426887296252722,
          3.193815182617776,
          -2.998213563631078,
          3.3672318138838646,
          -2.1754153749665424,
          -2.6204645717885073,
          -2.9866473236528233,
          5.169382433058668,
          -3.129030197467758,
          1.1268390223646985,
          -1.1001560575190141,
          4.324005618450408,
          -3.2551882357835202,
          -4.957786253284407,
          2.2500303827243338,
          -2.647505635630667,
          4.898254127470855,
          -4.839962930552169,
          0.5864969988262123,
          4.115841107924169,
          -4.257955839422665,
          -2.404574912808742,
          -6.396496335488138,
          -2.2375325545367315,
          3.0353600970547574,
          3.7487991613877707,
          -1.881460869213707,
          4.10734329382359,
          2.6687168300673716,
          3.4516159505552415,
          -4.099144050735588,
          -3.4845861982167587,
          -2.9550055903261025,
          -3.5574947217860435,
          -3.7255971191344273,
          4.000881423680301,
          -5.352249846493518,
          -4.414846901288236,
          -4.068897918696443,
          -4.025680316229358,
          2.168048333482752,
          -4.722391905414151,
          -5.107712502284553,
          4.062761096619027,
          -5.114163921916826,
          -2.079982066752237,
          3.212692136523981,
          2.3625504069916583,
          -5.208894233374778,
          -3.880577599844171,
          5.101000202668482
         ],
         "y": [
          0.825804192381068,
          -3.2782887078873073,
          -4.134592370675321,
          -1.3889433014394954,
          -3.549844487232821,
          1.6227184810818116,
          5.846160647585034,
          -2.5391076195369218,
          5.043596856834247,
          2.2026381172264964,
          5.1851564174839435,
          -3.842675789377436,
          5.550537495976215,
          -3.5488770612654013,
          -2.1864522795365677,
          -3.4425605471419667,
          3.2826757122484205,
          -0.8621719325605177,
          2.7620580642478174,
          3.9561217041246963,
          6.121417708235664,
          3.323527353601432,
          1.7728873681499855,
          -5.384054354668415,
          5.032614546693359,
          3.161020287598693,
          -4.479184915127406,
          2.551261967328377,
          -0.8830504011426998,
          5.453917581608818,
          1.0574108185235445,
          -3.017094457920228,
          -3.619115398559728,
          -5.1724282075504355,
          -2.8818666032823046,
          1.9542258320174324,
          5.137701209997386,
          3.7775859714700912,
          -2.649832841171721,
          3.0218628366265525,
          -3.3075453989722536,
          3.533845143174072,
          5.119008645807459,
          -2.390597303574572,
          2.5234373394798197,
          -1.2102453167937288,
          -5.142466729077368,
          -1.897680719704371,
          -2.557123071503691,
          3.6877165887625685,
          2.5809271009732786,
          -3.9339146556265012,
          -2.5333567327711592,
          4.644353666030322,
          3.142018135553248,
          4.8190796979218495,
          3.9325899750531454,
          -1.2320400516889736,
          -3.184176325653745,
          1.638683639223958,
          -5.671246130836819,
          -4.601156800649384,
          -3.8107068024413424,
          -4.79954749069176,
          1.8240173285586847,
          4.693795987371628,
          4.1234121620219355,
          -1.4555579052927412,
          -3.747131844766712,
          5.228955585650697,
          -1.791543671448037,
          4.43752881361608,
          2.2966055510354417,
          -2.6190541877748097,
          5.232494559178738,
          1.8930016017999538,
          2.1550127898450206,
          0.02832570680639801,
          -4.382796890292581,
          4.1223283216570925,
          -3.471120254414826,
          5.762011180312025,
          3.8515101969406063,
          4.142251372526318,
          -4.809084515332534,
          5.409253389364008,
          -1.513664812178758,
          -3.537892062955026,
          5.593578523237067,
          -3.3066337743396153,
          -2.6104470264173165,
          2.2120871088002843,
          1.483696139034251,
          -4.306534072844018,
          5.306206065135449,
          -4.765584302182908,
          5.423494354064113,
          -2.9349566829552276,
          5.338011696574476,
          -5.396753526855977,
          -4.396360922891093,
          -3.480183183577801,
          5.121821270991437,
          2.5165275673056158,
          -4.198998183803725,
          3.2684690182696667,
          4.510937774492089,
          2.5869706902889678,
          2.462776976124662,
          3.822367804016449,
          2.3386557568469812,
          2.9923365559366486,
          -4.021885944641309,
          -4.105344712507542,
          2.831801160255284,
          5.386314264246319,
          -5.611756413650076,
          -2.239584816424678,
          -4.160170104982276,
          -2.726314242513605,
          5.046567298424145,
          3.702054862199706,
          4.451429260590936,
          -3.102887217573538,
          -3.8031302207497086,
          5.520576337073371,
          1.528843074167375,
          -3.736853376541397,
          0.21746553234707733,
          4.224838380830841,
          -1.2397507735509068,
          5.186561390988285,
          5.7464350892279725,
          -4.098409279407204,
          1.5445747376263108,
          -2.285210402514185,
          -1.3866386254368845,
          -2.058635556431418,
          3.6081837601919515,
          4.369190469546874,
          4.552871435214001,
          4.551173442857444,
          3.732253070828436,
          -4.343900709210392,
          -5.267888079626016,
          4.0433591108044835,
          -4.934837764107138,
          -4.511481853462503,
          -2.295405828627593,
          -1.3396614300062304,
          3.7483257923685755,
          2.1890150216971493,
          -1.7671008076237629,
          3.6545801525867003,
          1.2668792645535734,
          2.305306404712774,
          5.740556451096275,
          -4.5084571342754005,
          -2.079384881945044,
          1.7180883173131993,
          -3.06230543101909,
          -5.761206900895103,
          -4.417184786284178,
          -0.9453758974818842,
          2.7635630481870135,
          5.868886157005868,
          -4.123831078883775,
          -4.777566375805987,
          -2.6897277122162326,
          -5.191835552361615,
          3.4214500686595115,
          -6.4441138054295894,
          2.7764993048221838,
          -4.538793245744643,
          -2.7966411523708627,
          2.056828069299362,
          2.6011871813335237,
          -2.6134608548669087,
          -1.8958256736967865,
          -5.683727859174333,
          -5.114871052365936,
          -3.3914853015151505,
          3.939168744196488,
          2.1322313223764096,
          -3.38483224883279,
          -6.14251819802214,
          -3.548053962678777,
          -4.714412674745741,
          3.295026094424845,
          -4.260688560398783,
          -2.9010036672528208,
          -4.017718317910142,
          -2.2592629077622677,
          2.5883608368115176,
          2.804942659124099,
          -1.8199301601218956,
          7.958602704037963,
          -4.4133768088178025,
          2.72090227845671,
          4.78002713533863
         ],
         "z": [
          -3.1749701755610142,
          3.374657998534012,
          2.6984613031197173,
          4.65904979610021,
          5.765335100519072,
          -4.867787222872925,
          -5.859515940831987,
          4.5924728014240195,
          -5.620000843948129,
          -3.5826979950251374,
          -5.375284950090114,
          5.114382976779792,
          -4.2071931340806525,
          3.305079098814761,
          4.503184813435326,
          4.1810387443578705,
          2.1739025681526796,
          -3.7855339969202353,
          4.155287886088225,
          2.294159492597716,
          -4.591099462063172,
          2.890008509836393,
          -5.6993336047222956,
          6.133769442335438,
          -6.373117320246756,
          -2.207841791024433,
          2.0478947127547675,
          2.3275519612134037,
          4.502740881999904,
          -3.3383189235340174,
          0.4935593473239388,
          3.002973172349737,
          5.9560789037036415,
          4.122141582078628,
          4.674396104820869,
          -4.1988378628888965,
          -4.922178872087294,
          -2.5298396561742598,
          -2.9828352736259114,
          2.5313261837221086,
          5.050807754776029,
          -2.6150086563513613,
          -5.670662286289031,
          2.7802556030209673,
          -4.143195745007238,
          -2.5487159839598292,
          -3.830168864022708,
          4.4202822036470595,
          3.4603184377975076,
          -5.038695509266051,
          -4.186578993511466,
          -3.5330203260835993,
          -1.966313132060499,
          -3.6283297087881348,
          -3.7638359695471797,
          -5.603920627793257,
          -2.838560018325606,
          -3.475372875137982,
          -3.1159851854723963,
          -3.3252884743120275,
          4.987335401081099,
          4.556073510077385,
          3.4362112654176973,
          3.7084054044991674,
          4.0101271773347245,
          -4.172025357392754,
          3.3052670402440105,
          3.5991218082110734,
          5.512929820418009,
          -2.6902940943173466,
          -1.8842981972155137,
          -3.6336679854599416,
          -3.7573305589182056,
          4.017409408300004,
          -4.317448593135515,
          -3.893777275964782,
          -4.230839743135469,
          3.75136522228454,
          5.300170319955828,
          2.0029802044703175,
          1.7629134888875293,
          -5.222328142610359,
          -4.183400197320024,
          -3.4864945200114525,
          7.100255136478842,
          -2.3790877143782527,
          4.213533901335442,
          2.939859290502346,
          -6.094911845741041,
          3.2419326714437675,
          3.3826379362876393,
          -3.6381526841604317,
          -4.59566788091029,
          -2.923619519840408,
          -4.604602969164376,
          6.659802177109871,
          -4.922659931651441,
          5.407540000241228,
          -6.199268032335186,
          4.312827299880401,
          3.3530833117450918,
          7.185575406533161,
          -3.8705160920880806,
          -3.8228122797240394,
          5.866471375152125,
          -5.565738150655905,
          -2.289338161328865,
          4.834717626649686,
          3.1562638502700833,
          -5.510456375087569,
          6.030857112372031,
          -4.680678141008886,
          -2.205471760398918,
          4.630195670684911,
          2.825819655692009,
          -3.4518704153118067,
          4.4718282477365445,
          4.966539250229057,
          -1.649893181318274,
          5.331457112587592,
          -5.186569771907349,
          -3.715251889150942,
          2.3819631523184213,
          -1.853099623600517,
          4.169869255347572,
          -6.1443413896231425,
          2.169828104684886,
          4.8758389276492995,
          3.584646610477426,
          -3.7262440698412234,
          -3.06065249177481,
          -4.589948352791744,
          -4.775070287073435,
          5.502494338901868,
          -3.4140895688973845,
          -2.1472959382747137,
          -3.3748046873026527,
          3.8998447667165004,
          -3.315998671818047,
          -3.1467178141762666,
          -3.775492295194501,
          -3.4143379998276178,
          -4.254179867607368,
          2.9998308101274844,
          5.530355466738186,
          -3.2411943399020693,
          5.038824601859414,
          4.924428286978944,
          5.040089153154096,
          4.369492716375723,
          -3.617284826275636,
          -4.001891482838004,
          -3.4228569613907753,
          2.948811552392336,
          -5.182318126509633,
          3.6218035043055723,
          -5.953700601807935,
          4.777419205248862,
          -3.035367924878711,
          -4.4375089828285805,
          5.954878075009034,
          5.319039096057098,
          3.8993808227870788,
          -2.946590463201652,
          3.727813499999649,
          -4.249588360134992,
          5.315634947241605,
          -3.777858826627413,
          -5.094247816222812,
          4.112371035915164,
          -3.939249804200493,
          4.495534137053549,
          -4.733271603895313,
          -3.4478951847161188,
          4.49521132397796,
          -2.1894650858745437,
          -3.9182321811943837,
          -3.8514556565308267,
          -3.281736269065613,
          4.877109774481352,
          3.2326901736682654,
          3.9306713033095173,
          1.0566765943316472,
          2.864022673899411,
          -1.5418917613904801,
          4.650657277587123,
          2.4208437146055344,
          5.885141164270728,
          -4.374438318843221,
          2.3492787341758996,
          3.098365509524002,
          2.280605525380477,
          4.280665077122639,
          4.278528082841722,
          3.8053934242321814,
          3.680198401101329,
          -3.3513563559093327,
          5.838983413874505,
          4.622849085954001,
          -4.62944160405378
         ]
        }
       ],
       "layout": {
        "autosize": true,
        "coloraxis": {
         "colorbar": {
          "title": {
           "text": "Cluster"
          }
         },
         "colorscale": [
          [
           0,
           "#0d0887"
          ],
          [
           0.1111111111111111,
           "#46039f"
          ],
          [
           0.2222222222222222,
           "#7201a8"
          ],
          [
           0.3333333333333333,
           "#9c179e"
          ],
          [
           0.4444444444444444,
           "#bd3786"
          ],
          [
           0.5555555555555556,
           "#d8576b"
          ],
          [
           0.6666666666666666,
           "#ed7953"
          ],
          [
           0.7777777777777778,
           "#fb9f3a"
          ],
          [
           0.8888888888888888,
           "#fdca26"
          ],
          [
           1,
           "#f0f921"
          ]
         ]
        },
        "dragmode": "pan",
        "legend": {
         "tracegroupgap": 0
        },
        "margin": {
         "t": 60
        },
        "scene": {
         "aspectmode": "auto",
         "aspectratio": {
          "x": 0.9706474695201597,
          "y": 1.0461224773058486,
          "z": 0.9848179136931554
         },
         "camera": {
          "center": {
           "x": 0,
           "y": 0,
           "z": 0
          },
          "eye": {
           "x": 1.1737569482355203,
           "y": 1.173756948235523,
           "z": 1.1737569482355137
          },
          "projection": {
           "type": "perspective"
          },
          "up": {
           "x": 0.06566783105101433,
           "y": -0.06160581105258035,
           "z": 0.9959379800015707
          }
         },
         "domain": {
          "x": [
           0,
           1
          ],
          "y": [
           0,
           1
          ]
         },
         "dragmode": "pan",
         "xaxis": {
          "title": {
           "text": "X"
          },
          "type": "linear"
         },
         "yaxis": {
          "title": {
           "text": "Y"
          },
          "type": "linear"
         },
         "zaxis": {
          "title": {
           "text": "Z"
          },
          "type": "linear"
         }
        },
        "template": {
         "data": {
          "bar": [
           {
            "error_x": {
             "color": "#2a3f5f"
            },
            "error_y": {
             "color": "#2a3f5f"
            },
            "marker": {
             "line": {
              "color": "#E5ECF6",
              "width": 0.5
             },
             "pattern": {
              "fillmode": "overlay",
              "size": 10,
              "solidity": 0.2
             }
            },
            "type": "bar"
           }
          ],
          "barpolar": [
           {
            "marker": {
             "line": {
              "color": "#E5ECF6",
              "width": 0.5
             },
             "pattern": {
              "fillmode": "overlay",
              "size": 10,
              "solidity": 0.2
             }
            },
            "type": "barpolar"
           }
          ],
          "carpet": [
           {
            "aaxis": {
             "endlinecolor": "#2a3f5f",
             "gridcolor": "white",
             "linecolor": "white",
             "minorgridcolor": "white",
             "startlinecolor": "#2a3f5f"
            },
            "baxis": {
             "endlinecolor": "#2a3f5f",
             "gridcolor": "white",
             "linecolor": "white",
             "minorgridcolor": "white",
             "startlinecolor": "#2a3f5f"
            },
            "type": "carpet"
           }
          ],
          "choropleth": [
           {
            "colorbar": {
             "outlinewidth": 0,
             "ticks": ""
            },
            "type": "choropleth"
           }
          ],
          "contour": [
           {
            "colorbar": {
             "outlinewidth": 0,
             "ticks": ""
            },
            "colorscale": [
             [
              0,
              "#0d0887"
             ],
             [
              0.1111111111111111,
              "#46039f"
             ],
             [
              0.2222222222222222,
              "#7201a8"
             ],
             [
              0.3333333333333333,
              "#9c179e"
             ],
             [
              0.4444444444444444,
              "#bd3786"
             ],
             [
              0.5555555555555556,
              "#d8576b"
             ],
             [
              0.6666666666666666,
              "#ed7953"
             ],
             [
              0.7777777777777778,
              "#fb9f3a"
             ],
             [
              0.8888888888888888,
              "#fdca26"
             ],
             [
              1,
              "#f0f921"
             ]
            ],
            "type": "contour"
           }
          ],
          "contourcarpet": [
           {
            "colorbar": {
             "outlinewidth": 0,
             "ticks": ""
            },
            "type": "contourcarpet"
           }
          ],
          "heatmap": [
           {
            "colorbar": {
             "outlinewidth": 0,
             "ticks": ""
            },
            "colorscale": [
             [
              0,
              "#0d0887"
             ],
             [
              0.1111111111111111,
              "#46039f"
             ],
             [
              0.2222222222222222,
              "#7201a8"
             ],
             [
              0.3333333333333333,
              "#9c179e"
             ],
             [
              0.4444444444444444,
              "#bd3786"
             ],
             [
              0.5555555555555556,
              "#d8576b"
             ],
             [
              0.6666666666666666,
              "#ed7953"
             ],
             [
              0.7777777777777778,
              "#fb9f3a"
             ],
             [
              0.8888888888888888,
              "#fdca26"
             ],
             [
              1,
              "#f0f921"
             ]
            ],
            "type": "heatmap"
           }
          ],
          "heatmapgl": [
           {
            "colorbar": {
             "outlinewidth": 0,
             "ticks": ""
            },
            "colorscale": [
             [
              0,
              "#0d0887"
             ],
             [
              0.1111111111111111,
              "#46039f"
             ],
             [
              0.2222222222222222,
              "#7201a8"
             ],
             [
              0.3333333333333333,
              "#9c179e"
             ],
             [
              0.4444444444444444,
              "#bd3786"
             ],
             [
              0.5555555555555556,
              "#d8576b"
             ],
             [
              0.6666666666666666,
              "#ed7953"
             ],
             [
              0.7777777777777778,
              "#fb9f3a"
             ],
             [
              0.8888888888888888,
              "#fdca26"
             ],
             [
              1,
              "#f0f921"
             ]
            ],
            "type": "heatmapgl"
           }
          ],
          "histogram": [
           {
            "marker": {
             "pattern": {
              "fillmode": "overlay",
              "size": 10,
              "solidity": 0.2
             }
            },
            "type": "histogram"
           }
          ],
          "histogram2d": [
           {
            "colorbar": {
             "outlinewidth": 0,
             "ticks": ""
            },
            "colorscale": [
             [
              0,
              "#0d0887"
             ],
             [
              0.1111111111111111,
              "#46039f"
             ],
             [
              0.2222222222222222,
              "#7201a8"
             ],
             [
              0.3333333333333333,
              "#9c179e"
             ],
             [
              0.4444444444444444,
              "#bd3786"
             ],
             [
              0.5555555555555556,
              "#d8576b"
             ],
             [
              0.6666666666666666,
              "#ed7953"
             ],
             [
              0.7777777777777778,
              "#fb9f3a"
             ],
             [
              0.8888888888888888,
              "#fdca26"
             ],
             [
              1,
              "#f0f921"
             ]
            ],
            "type": "histogram2d"
           }
          ],
          "histogram2dcontour": [
           {
            "colorbar": {
             "outlinewidth": 0,
             "ticks": ""
            },
            "colorscale": [
             [
              0,
              "#0d0887"
             ],
             [
              0.1111111111111111,
              "#46039f"
             ],
             [
              0.2222222222222222,
              "#7201a8"
             ],
             [
              0.3333333333333333,
              "#9c179e"
             ],
             [
              0.4444444444444444,
              "#bd3786"
             ],
             [
              0.5555555555555556,
              "#d8576b"
             ],
             [
              0.6666666666666666,
              "#ed7953"
             ],
             [
              0.7777777777777778,
              "#fb9f3a"
             ],
             [
              0.8888888888888888,
              "#fdca26"
             ],
             [
              1,
              "#f0f921"
             ]
            ],
            "type": "histogram2dcontour"
           }
          ],
          "mesh3d": [
           {
            "colorbar": {
             "outlinewidth": 0,
             "ticks": ""
            },
            "type": "mesh3d"
           }
          ],
          "parcoords": [
           {
            "line": {
             "colorbar": {
              "outlinewidth": 0,
              "ticks": ""
             }
            },
            "type": "parcoords"
           }
          ],
          "pie": [
           {
            "automargin": true,
            "type": "pie"
           }
          ],
          "scatter": [
           {
            "fillpattern": {
             "fillmode": "overlay",
             "size": 10,
             "solidity": 0.2
            },
            "type": "scatter"
           }
          ],
          "scatter3d": [
           {
            "line": {
             "colorbar": {
              "outlinewidth": 0,
              "ticks": ""
             }
            },
            "marker": {
             "colorbar": {
              "outlinewidth": 0,
              "ticks": ""
             }
            },
            "type": "scatter3d"
           }
          ],
          "scattercarpet": [
           {
            "marker": {
             "colorbar": {
              "outlinewidth": 0,
              "ticks": ""
             }
            },
            "type": "scattercarpet"
           }
          ],
          "scattergeo": [
           {
            "marker": {
             "colorbar": {
              "outlinewidth": 0,
              "ticks": ""
             }
            },
            "type": "scattergeo"
           }
          ],
          "scattergl": [
           {
            "marker": {
             "colorbar": {
              "outlinewidth": 0,
              "ticks": ""
             }
            },
            "type": "scattergl"
           }
          ],
          "scattermapbox": [
           {
            "marker": {
             "colorbar": {
              "outlinewidth": 0,
              "ticks": ""
             }
            },
            "type": "scattermapbox"
           }
          ],
          "scatterpolar": [
           {
            "marker": {
             "colorbar": {
              "outlinewidth": 0,
              "ticks": ""
             }
            },
            "type": "scatterpolar"
           }
          ],
          "scatterpolargl": [
           {
            "marker": {
             "colorbar": {
              "outlinewidth": 0,
              "ticks": ""
             }
            },
            "type": "scatterpolargl"
           }
          ],
          "scatterternary": [
           {
            "marker": {
             "colorbar": {
              "outlinewidth": 0,
              "ticks": ""
             }
            },
            "type": "scatterternary"
           }
          ],
          "surface": [
           {
            "colorbar": {
             "outlinewidth": 0,
             "ticks": ""
            },
            "colorscale": [
             [
              0,
              "#0d0887"
             ],
             [
              0.1111111111111111,
              "#46039f"
             ],
             [
              0.2222222222222222,
              "#7201a8"
             ],
             [
              0.3333333333333333,
              "#9c179e"
             ],
             [
              0.4444444444444444,
              "#bd3786"
             ],
             [
              0.5555555555555556,
              "#d8576b"
             ],
             [
              0.6666666666666666,
              "#ed7953"
             ],
             [
              0.7777777777777778,
              "#fb9f3a"
             ],
             [
              0.8888888888888888,
              "#fdca26"
             ],
             [
              1,
              "#f0f921"
             ]
            ],
            "type": "surface"
           }
          ],
          "table": [
           {
            "cells": {
             "fill": {
              "color": "#EBF0F8"
             },
             "line": {
              "color": "white"
             }
            },
            "header": {
             "fill": {
              "color": "#C8D4E3"
             },
             "line": {
              "color": "white"
             }
            },
            "type": "table"
           }
          ]
         },
         "layout": {
          "annotationdefaults": {
           "arrowcolor": "#2a3f5f",
           "arrowhead": 0,
           "arrowwidth": 1
          },
          "autotypenumbers": "strict",
          "coloraxis": {
           "colorbar": {
            "outlinewidth": 0,
            "ticks": ""
           }
          },
          "colorscale": {
           "diverging": [
            [
             0,
             "#8e0152"
            ],
            [
             0.1,
             "#c51b7d"
            ],
            [
             0.2,
             "#de77ae"
            ],
            [
             0.3,
             "#f1b6da"
            ],
            [
             0.4,
             "#fde0ef"
            ],
            [
             0.5,
             "#f7f7f7"
            ],
            [
             0.6,
             "#e6f5d0"
            ],
            [
             0.7,
             "#b8e186"
            ],
            [
             0.8,
             "#7fbc41"
            ],
            [
             0.9,
             "#4d9221"
            ],
            [
             1,
             "#276419"
            ]
           ],
           "sequential": [
            [
             0,
             "#0d0887"
            ],
            [
             0.1111111111111111,
             "#46039f"
            ],
            [
             0.2222222222222222,
             "#7201a8"
            ],
            [
             0.3333333333333333,
             "#9c179e"
            ],
            [
             0.4444444444444444,
             "#bd3786"
            ],
            [
             0.5555555555555556,
             "#d8576b"
            ],
            [
             0.6666666666666666,
             "#ed7953"
            ],
            [
             0.7777777777777778,
             "#fb9f3a"
            ],
            [
             0.8888888888888888,
             "#fdca26"
            ],
            [
             1,
             "#f0f921"
            ]
           ],
           "sequentialminus": [
            [
             0,
             "#0d0887"
            ],
            [
             0.1111111111111111,
             "#46039f"
            ],
            [
             0.2222222222222222,
             "#7201a8"
            ],
            [
             0.3333333333333333,
             "#9c179e"
            ],
            [
             0.4444444444444444,
             "#bd3786"
            ],
            [
             0.5555555555555556,
             "#d8576b"
            ],
            [
             0.6666666666666666,
             "#ed7953"
            ],
            [
             0.7777777777777778,
             "#fb9f3a"
            ],
            [
             0.8888888888888888,
             "#fdca26"
            ],
            [
             1,
             "#f0f921"
            ]
           ]
          },
          "colorway": [
           "#636efa",
           "#EF553B",
           "#00cc96",
           "#ab63fa",
           "#FFA15A",
           "#19d3f3",
           "#FF6692",
           "#B6E880",
           "#FF97FF",
           "#FECB52"
          ],
          "font": {
           "color": "#2a3f5f"
          },
          "geo": {
           "bgcolor": "white",
           "lakecolor": "white",
           "landcolor": "#E5ECF6",
           "showlakes": true,
           "showland": true,
           "subunitcolor": "white"
          },
          "hoverlabel": {
           "align": "left"
          },
          "hovermode": "closest",
          "mapbox": {
           "style": "light"
          },
          "paper_bgcolor": "white",
          "plot_bgcolor": "#E5ECF6",
          "polar": {
           "angularaxis": {
            "gridcolor": "white",
            "linecolor": "white",
            "ticks": ""
           },
           "bgcolor": "#E5ECF6",
           "radialaxis": {
            "gridcolor": "white",
            "linecolor": "white",
            "ticks": ""
           }
          },
          "scene": {
           "xaxis": {
            "backgroundcolor": "#E5ECF6",
            "gridcolor": "white",
            "gridwidth": 2,
            "linecolor": "white",
            "showbackground": true,
            "ticks": "",
            "zerolinecolor": "white"
           },
           "yaxis": {
            "backgroundcolor": "#E5ECF6",
            "gridcolor": "white",
            "gridwidth": 2,
            "linecolor": "white",
            "showbackground": true,
            "ticks": "",
            "zerolinecolor": "white"
           },
           "zaxis": {
            "backgroundcolor": "#E5ECF6",
            "gridcolor": "white",
            "gridwidth": 2,
            "linecolor": "white",
            "showbackground": true,
            "ticks": "",
            "zerolinecolor": "white"
           }
          },
          "shapedefaults": {
           "line": {
            "color": "#2a3f5f"
           }
          },
          "ternary": {
           "aaxis": {
            "gridcolor": "white",
            "linecolor": "white",
            "ticks": ""
           },
           "baxis": {
            "gridcolor": "white",
            "linecolor": "white",
            "ticks": ""
           },
           "bgcolor": "#E5ECF6",
           "caxis": {
            "gridcolor": "white",
            "linecolor": "white",
            "ticks": ""
           }
          },
          "title": {
           "x": 0.05
          },
          "xaxis": {
           "automargin": true,
           "gridcolor": "white",
           "linecolor": "white",
           "ticks": "",
           "title": {
            "standoff": 15
           },
           "zerolinecolor": "white",
           "zerolinewidth": 2
          },
          "yaxis": {
           "automargin": true,
           "gridcolor": "white",
           "linecolor": "white",
           "ticks": "",
           "title": {
            "standoff": 15
           },
           "zerolinecolor": "white",
           "zerolinewidth": 2
          }
         }
        },
        "title": {
         "text": "3D View of Clusters"
        }
       }
      },
      "image/png": "[encoded data removed]",
      "text/html": [
       "<div>                            <div id=\"3c37cb30-b4c0-4a66-a703-c91b11895a92\" class=\"plotly-graph-div\" style=\"height:525px; width:100%;\"></div>            <script type=\"text/javascript\">                require([\"plotly\"], function(Plotly) {                    window.PLOTLYENV=window.PLOTLYENV || {};                                    if (document.getElementById(\"3c37cb30-b4c0-4a66-a703-c91b11895a92\")) {                    Plotly.newPlot(                        \"3c37cb30-b4c0-4a66-a703-c91b11895a92\",                        [{\"hovertemplate\":\"x=%{x}<br>y=%{y}<br>z=%{z}<br>Cluster=%{marker.color}<extra></extra>\",\"legendgroup\":\"\",\"marker\":{\"color\":[3,6,0,2,6,3,1,6,1,3,1,2,1,6,2,6,4,5,4,4,1,4,7,0,1,3,6,4,2,7,4,2,2,0,6,3,1,7,5,4,0,7,1,2,7,5,5,2,6,1,3,5,5,7,1,1,7,5,5,3,0,6,6,6,4,1,4,2,0,7,5,3,3,2,1,3,3,2,0,4,6,1,7,7,0,7,2,0,1,6,2,7,7,5,7,0,1,2,1,0,2,0,1,3,6,7,7,4,4,7,4,3,5,6,4,7,0,6,5,2,1,3,4,5,6,1,4,2,4,1,5,1,7,0,3,5,5,2,7,7,1,3,3,6,0,3,2,0,6,2,7,3,5,4,3,4,1,6,5,3,2,0,0,5,4,1,0,5,5,0,3,0,3,5,2,3,7,5,5,0,6,6,4,4,5,0,6,0,3,2,6,6,2,4,4,2,7,0,4,7],\"coloraxis\":\"coloraxis\",\"symbol\":\"circle\"},\"mode\":\"markers\",\"name\":\"\",\"scene\":\"scene\",\"showlegend\":false,\"x\":[-3.1657545181991265,-4.822467188904252,-6.0729686221561705,5.404658708340981,-4.10839206717354,-1.6150911855351167,5.3151593920422915,-3.3254292930439964,4.656146324428924,-2.5845080274046297,6.198917879901507,3.173500501921816,3.7699418643330382,-5.402329145453137,2.2274412447540057,-4.808847196472128,-3.7972697854931297,3.5643828554943138,-1.8073139322453065,-2.3789172991609915,3.384227645296705,-3.442229279513173,5.013822466971705,-5.322417204013507,4.733781493996378,-2.2981698211259958,-4.4189378976781235,-3.1902210250848615,3.6291015797107256,4.03494358936374,-5.0372012256807945,2.3779812712531117,2.6094444158369514,-6.099891267314031,-4.532234020898177,-0.050631350938602715,5.529465324352709,5.032983778949751,2.52084290121392,-2.675725756551579,-5.747158293750838,4.986352180212064,5.198299720126769,5.0588055406198595,5.011207063774909,3.808844360265682,3.0864644065242874,1.8725616593837426,-2.8928245490509377,5.350545978664107,-3.6164700178847444,2.8245410313382475,2.950297420841324,3.540057169159313,6.967101749254734,5.863345317544022,2.8865638970270098,1.573444579479468,3.6179855339203346,-3.896620424595432,-5.84520564149872,-3.9103135926774097,-4.258982853400532,-3.942879003917908,-2.5388359000229825,2.977798784175997,-3.5998045310708475,4.310951672803556,-5.754397940996653,3.7241539374388566,2.5708577217649062,-5.29308500014654,-3.200398504921255,3.3635552561039668,5.618380261998524,-2.0704738599780357,-3.8057269225577377,4.401486891648711,-4.8798410475183704,-2.5618336527087626,-4.828627978856406,5.230094735364384,4.372456851511442,5.853009485069379,-5.636995646569353,4.636583409414631,3.325296840257499,-5.24937037547741,5.4034916417908,-5.164007971161202,4.793225882532262,3.6465900171329855,4.141640537665805,5.110605053600709,4.713049050303269,-6.117310348635278,4.361269592545778,4.123362176578032,6.627650753148906,-5.691660751725309,5.690699728969733,-3.8683706125485733,5.37756378632092,-2.2888752449922833,-4.118771172103089,3.5755072094290727,3.690878681358138,-2.1467187780443777,-3.701344426257177,2.8450173650706354,-1.6112206036297316,-2.5568244808858474,3.4776101818175573,-4.918440038300026,-2.991451054563975,3.8602882695589273,-3.3756546363367583,-3.871623009844056,1.3159400141317628,3.543668993178389,5.801861031871344,-2.365951803445377,-3.106793986779225,3.840861558141104,-2.306190886711919,4.376469270320208,-0.9342166797811657,2.9134760611784074,-2.4849263863606343,4.9753830441242215,5.0563555231982935,4.799241931070003,3.972470613732022,-3.855276290160386,-1.7152293489844106,1.2440743597671482,2.7712341711298376,5.686979646974258,3.711002656990184,3.129991776809148,5.698032034072219,-3.544589381907792,-3.94087602429184,-4.593843067254509,-5.935769434259068,-1.6639952805657312,3.18988322648194,-5.2980928351027154,-2.802169158278749,3.426887296252722,3.193815182617776,-2.998213563631078,3.3672318138838646,-2.1754153749665424,-2.6204645717885073,-2.9866473236528233,5.169382433058668,-3.129030197467758,1.1268390223646985,-1.1001560575190141,4.324005618450408,-3.2551882357835202,-4.957786253284407,2.2500303827243338,-2.647505635630667,4.898254127470855,-4.839962930552169,0.5864969988262123,4.115841107924169,-4.257955839422665,-2.404574912808742,-6.396496335488138,-2.2375325545367315,3.0353600970547574,3.7487991613877707,-1.881460869213707,4.10734329382359,2.6687168300673716,3.4516159505552415,-4.099144050735588,-3.4845861982167587,-2.9550055903261025,-3.5574947217860435,-3.7255971191344273,4.000881423680301,-5.352249846493518,-4.414846901288236,-4.068897918696443,-4.025680316229358,2.168048333482752,-4.722391905414151,-5.107712502284553,4.062761096619027,-5.114163921916826,-2.079982066752237,3.212692136523981,2.3625504069916583,-5.208894233374778,-3.880577599844171,5.101000202668482],\"y\":[0.825804192381068,-3.2782887078873073,-4.134592370675321,-1.3889433014394954,-3.549844487232821,1.6227184810818116,5.846160647585034,-2.5391076195369218,5.043596856834247,2.2026381172264964,5.1851564174839435,-3.842675789377436,5.550537495976215,-3.5488770612654013,-2.1864522795365677,-3.4425605471419667,3.2826757122484205,-0.8621719325605177,2.7620580642478174,3.9561217041246963,6.121417708235664,3.323527353601432,1.7728873681499855,-5.384054354668415,5.032614546693359,3.161020287598693,-4.479184915127406,2.551261967328377,-0.8830504011426998,5.453917581608818,1.0574108185235445,-3.017094457920228,-3.619115398559728,-5.1724282075504355,-2.8818666032823046,1.9542258320174324,5.137701209997386,3.7775859714700912,-2.649832841171721,3.0218628366265525,-3.3075453989722536,3.533845143174072,5.119008645807459,-2.390597303574572,2.5234373394798197,-1.2102453167937288,-5.142466729077368,-1.897680719704371,-2.557123071503691,3.6877165887625685,2.5809271009732786,-3.9339146556265012,-2.5333567327711592,4.644353666030322,3.142018135553248,4.8190796979218495,3.9325899750531454,-1.2320400516889736,-3.184176325653745,1.638683639223958,-5.671246130836819,-4.601156800649384,-3.8107068024413424,-4.79954749069176,1.8240173285586847,4.693795987371628,4.1234121620219355,-1.4555579052927412,-3.747131844766712,5.228955585650697,-1.791543671448037,4.43752881361608,2.2966055510354417,-2.6190541877748097,5.232494559178738,1.8930016017999538,2.1550127898450206,0.02832570680639801,-4.382796890292581,4.1223283216570925,-3.471120254414826,5.762011180312025,3.8515101969406063,4.142251372526318,-4.809084515332534,5.409253389364008,-1.513664812178758,-3.537892062955026,5.593578523237067,-3.3066337743396153,-2.6104470264173165,2.2120871088002843,1.483696139034251,-4.306534072844018,5.306206065135449,-4.765584302182908,5.423494354064113,-2.9349566829552276,5.338011696574476,-5.396753526855977,-4.396360922891093,-3.480183183577801,5.121821270991437,2.5165275673056158,-4.198998183803725,3.2684690182696667,4.510937774492089,2.5869706902889678,2.462776976124662,3.822367804016449,2.3386557568469812,2.9923365559366486,-4.021885944641309,-4.105344712507542,2.831801160255284,5.386314264246319,-5.611756413650076,-2.239584816424678,-4.160170104982276,-2.726314242513605,5.046567298424145,3.702054862199706,4.451429260590936,-3.102887217573538,-3.8031302207497086,5.520576337073371,1.528843074167375,-3.736853376541397,0.21746553234707733,4.224838380830841,-1.2397507735509068,5.186561390988285,5.7464350892279725,-4.098409279407204,1.5445747376263108,-2.285210402514185,-1.3866386254368845,-2.058635556431418,3.6081837601919515,4.369190469546874,4.552871435214001,4.551173442857444,3.732253070828436,-4.343900709210392,-5.267888079626016,4.0433591108044835,-4.934837764107138,-4.511481853462503,-2.295405828627593,-1.3396614300062304,3.7483257923685755,2.1890150216971493,-1.7671008076237629,3.6545801525867003,1.2668792645535734,2.305306404712774,5.740556451096275,-4.5084571342754005,-2.079384881945044,1.7180883173131993,-3.06230543101909,-5.761206900895103,-4.417184786284178,-0.9453758974818842,2.7635630481870135,5.868886157005868,-4.123831078883775,-4.777566375805987,-2.6897277122162326,-5.191835552361615,3.4214500686595115,-6.4441138054295894,2.7764993048221838,-4.538793245744643,-2.7966411523708627,2.056828069299362,2.6011871813335237,-2.6134608548669087,-1.8958256736967865,-5.683727859174333,-5.114871052365936,-3.3914853015151505,3.939168744196488,2.1322313223764096,-3.38483224883279,-6.14251819802214,-3.548053962678777,-4.714412674745741,3.295026094424845,-4.260688560398783,-2.9010036672528208,-4.017718317910142,-2.2592629077622677,2.5883608368115176,2.804942659124099,-1.8199301601218956,7.958602704037963,-4.4133768088178025,2.72090227845671,4.78002713533863],\"z\":[-3.1749701755610142,3.374657998534012,2.6984613031197173,4.65904979610021,5.765335100519072,-4.867787222872925,-5.859515940831987,4.5924728014240195,-5.620000843948129,-3.5826979950251374,-5.375284950090114,5.114382976779792,-4.2071931340806525,3.305079098814761,4.503184813435326,4.1810387443578705,2.1739025681526796,-3.7855339969202353,4.155287886088225,2.294159492597716,-4.591099462063172,2.890008509836393,-5.6993336047222956,6.133769442335438,-6.373117320246756,-2.207841791024433,2.0478947127547675,2.3275519612134037,4.502740881999904,-3.3383189235340174,0.4935593473239388,3.002973172349737,5.9560789037036415,4.122141582078628,4.674396104820869,-4.1988378628888965,-4.922178872087294,-2.5298396561742598,-2.9828352736259114,2.5313261837221086,5.050807754776029,-2.6150086563513613,-5.670662286289031,2.7802556030209673,-4.143195745007238,-2.5487159839598292,-3.830168864022708,4.4202822036470595,3.4603184377975076,-5.038695509266051,-4.186578993511466,-3.5330203260835993,-1.966313132060499,-3.6283297087881348,-3.7638359695471797,-5.603920627793257,-2.838560018325606,-3.475372875137982,-3.1159851854723963,-3.3252884743120275,4.987335401081099,4.556073510077385,3.4362112654176973,3.7084054044991674,4.0101271773347245,-4.172025357392754,3.3052670402440105,3.5991218082110734,5.512929820418009,-2.6902940943173466,-1.8842981972155137,-3.6336679854599416,-3.7573305589182056,4.017409408300004,-4.317448593135515,-3.893777275964782,-4.230839743135469,3.75136522228454,5.300170319955828,2.0029802044703175,1.7629134888875293,-5.222328142610359,-4.183400197320024,-3.4864945200114525,7.100255136478842,-2.3790877143782527,4.213533901335442,2.939859290502346,-6.094911845741041,3.2419326714437675,3.3826379362876393,-3.6381526841604317,-4.59566788091029,-2.923619519840408,-4.604602969164376,6.659802177109871,-4.922659931651441,5.407540000241228,-6.199268032335186,4.312827299880401,3.3530833117450918,7.185575406533161,-3.8705160920880806,-3.8228122797240394,5.866471375152125,-5.565738150655905,-2.289338161328865,4.834717626649686,3.1562638502700833,-5.510456375087569,6.030857112372031,-4.680678141008886,-2.205471760398918,4.630195670684911,2.825819655692009,-3.4518704153118067,4.4718282477365445,4.966539250229057,-1.649893181318274,5.331457112587592,-5.186569771907349,-3.715251889150942,2.3819631523184213,-1.853099623600517,4.169869255347572,-6.1443413896231425,2.169828104684886,4.8758389276492995,3.584646610477426,-3.7262440698412234,-3.06065249177481,-4.589948352791744,-4.775070287073435,5.502494338901868,-3.4140895688973845,-2.1472959382747137,-3.3748046873026527,3.8998447667165004,-3.315998671818047,-3.1467178141762666,-3.775492295194501,-3.4143379998276178,-4.254179867607368,2.9998308101274844,5.530355466738186,-3.2411943399020693,5.038824601859414,4.924428286978944,5.040089153154096,4.369492716375723,-3.617284826275636,-4.001891482838004,-3.4228569613907753,2.948811552392336,-5.182318126509633,3.6218035043055723,-5.953700601807935,4.777419205248862,-3.035367924878711,-4.4375089828285805,5.954878075009034,5.319039096057098,3.8993808227870788,-2.946590463201652,3.727813499999649,-4.249588360134992,5.315634947241605,-3.777858826627413,-5.094247816222812,4.112371035915164,-3.939249804200493,4.495534137053549,-4.733271603895313,-3.4478951847161188,4.49521132397796,-2.1894650858745437,-3.9182321811943837,-3.8514556565308267,-3.281736269065613,4.877109774481352,3.2326901736682654,3.9306713033095173,1.0566765943316472,2.864022673899411,-1.5418917613904801,4.650657277587123,2.4208437146055344,5.885141164270728,-4.374438318843221,2.3492787341758996,3.098365509524002,2.280605525380477,4.280665077122639,4.278528082841722,3.8053934242321814,3.680198401101329,-3.3513563559093327,5.838983413874505,4.622849085954001,-4.62944160405378],\"type\":\"scatter3d\"}],                        {\"template\":{\"data\":{\"histogram2dcontour\":[{\"type\":\"histogram2dcontour\",\"colorbar\":{\"outlinewidth\":0,\"ticks\":\"\"},\"colorscale\":[[0.0,\"#0d0887\"],[0.1111111111111111,\"#46039f\"],[0.2222222222222222,\"#7201a8\"],[0.3333333333333333,\"#9c179e\"],[0.4444444444444444,\"#bd3786\"],[0.5555555555555556,\"#d8576b\"],[0.6666666666666666,\"#ed7953\"],[0.7777777777777778,\"#fb9f3a\"],[0.8888888888888888,\"#fdca26\"],[1.0,\"#f0f921\"]]}],\"choropleth\":[{\"type\":\"choropleth\",\"colorbar\":{\"outlinewidth\":0,\"ticks\":\"\"}}],\"histogram2d\":[{\"type\":\"histogram2d\",\"colorbar\":{\"outlinewidth\":0,\"ticks\":\"\"},\"colorscale\":[[0.0,\"#0d0887\"],[0.1111111111111111,\"#46039f\"],[0.2222222222222222,\"#7201a8\"],[0.3333333333333333,\"#9c179e\"],[0.4444444444444444,\"#bd3786\"],[0.5555555555555556,\"#d8576b\"],[0.6666666666666666,\"#ed7953\"],[0.7777777777777778,\"#fb9f3a\"],[0.8888888888888888,\"#fdca26\"],[1.0,\"#f0f921\"]]}],\"heatmap\":[{\"type\":\"heatmap\",\"colorbar\":{\"outlinewidth\":0,\"ticks\":\"\"},\"colorscale\":[[0.0,\"#0d0887\"],[0.1111111111111111,\"#46039f\"],[0.2222222222222222,\"#7201a8\"],[0.3333333333333333,\"#9c179e\"],[0.4444444444444444,\"#bd3786\"],[0.5555555555555556,\"#d8576b\"],[0.6666666666666666,\"#ed7953\"],[0.7777777777777778,\"#fb9f3a\"],[0.8888888888888888,\"#fdca26\"],[1.0,\"#f0f921\"]]}],\"heatmapgl\":[{\"type\":\"heatmapgl\",\"colorbar\":{\"outlinewidth\":0,\"ticks\":\"\"},\"colorscale\":[[0.0,\"#0d0887\"],[0.1111111111111111,\"#46039f\"],[0.2222222222222222,\"#7201a8\"],[0.3333333333333333,\"#9c179e\"],[0.4444444444444444,\"#bd3786\"],[0.5555555555555556,\"#d8576b\"],[0.6666666666666666,\"#ed7953\"],[0.7777777777777778,\"#fb9f3a\"],[0.8888888888888888,\"#fdca26\"],[1.0,\"#f0f921\"]]}],\"contourcarpet\":[{\"type\":\"contourcarpet\",\"colorbar\":{\"outlinewidth\":0,\"ticks\":\"\"}}],\"contour\":[{\"type\":\"contour\",\"colorbar\":{\"outlinewidth\":0,\"ticks\":\"\"},\"colorscale\":[[0.0,\"#0d0887\"],[0.1111111111111111,\"#46039f\"],[0.2222222222222222,\"#7201a8\"],[0.3333333333333333,\"#9c179e\"],[0.4444444444444444,\"#bd3786\"],[0.5555555555555556,\"#d8576b\"],[0.6666666666666666,\"#ed7953\"],[0.7777777777777778,\"#fb9f3a\"],[0.8888888888888888,\"#fdca26\"],[1.0,\"#f0f921\"]]}],\"surface\":[{\"type\":\"surface\",\"colorbar\":{\"outlinewidth\":0,\"ticks\":\"\"},\"colorscale\":[[0.0,\"#0d0887\"],[0.1111111111111111,\"#46039f\"],[0.2222222222222222,\"#7201a8\"],[0.3333333333333333,\"#9c179e\"],[0.4444444444444444,\"#bd3786\"],[0.5555555555555556,\"#d8576b\"],[0.6666666666666666,\"#ed7953\"],[0.7777777777777778,\"#fb9f3a\"],[0.8888888888888888,\"#fdca26\"],[1.0,\"#f0f921\"]]}],\"mesh3d\":[{\"type\":\"mesh3d\",\"colorbar\":{\"outlinewidth\":0,\"ticks\":\"\"}}],\"scatter\":[{\"fillpattern\":{\"fillmode\":\"overlay\",\"size\":10,\"solidity\":0.2},\"type\":\"scatter\"}],\"parcoords\":[{\"type\":\"parcoords\",\"line\":{\"colorbar\":{\"outlinewidth\":0,\"ticks\":\"\"}}}],\"scatterpolargl\":[{\"type\":\"scatterpolargl\",\"marker\":{\"colorbar\":{\"outlinewidth\":0,\"ticks\":\"\"}}}],\"bar\":[{\"error_x\":{\"color\":\"#2a3f5f\"},\"error_y\":{\"color\":\"#2a3f5f\"},\"marker\":{\"line\":{\"color\":\"#E5ECF6\",\"width\":0.5},\"pattern\":{\"fillmode\":\"overlay\",\"size\":10,\"solidity\":0.2}},\"type\":\"bar\"}],\"scattergeo\":[{\"type\":\"scattergeo\",\"marker\":{\"colorbar\":{\"outlinewidth\":0,\"ticks\":\"\"}}}],\"scatterpolar\":[{\"type\":\"scatterpolar\",\"marker\":{\"colorbar\":{\"outlinewidth\":0,\"ticks\":\"\"}}}],\"histogram\":[{\"marker\":{\"pattern\":{\"fillmode\":\"overlay\",\"size\":10,\"solidity\":0.2}},\"type\":\"histogram\"}],\"scattergl\":[{\"type\":\"scattergl\",\"marker\":{\"colorbar\":{\"outlinewidth\":0,\"ticks\":\"\"}}}],\"scatter3d\":[{\"type\":\"scatter3d\",\"line\":{\"colorbar\":{\"outlinewidth\":0,\"ticks\":\"\"}},\"marker\":{\"colorbar\":{\"outlinewidth\":0,\"ticks\":\"\"}}}],\"scattermapbox\":[{\"type\":\"scattermapbox\",\"marker\":{\"colorbar\":{\"outlinewidth\":0,\"ticks\":\"\"}}}],\"scatterternary\":[{\"type\":\"scatterternary\",\"marker\":{\"colorbar\":{\"outlinewidth\":0,\"ticks\":\"\"}}}],\"scattercarpet\":[{\"type\":\"scattercarpet\",\"marker\":{\"colorbar\":{\"outlinewidth\":0,\"ticks\":\"\"}}}],\"carpet\":[{\"aaxis\":{\"endlinecolor\":\"#2a3f5f\",\"gridcolor\":\"white\",\"linecolor\":\"white\",\"minorgridcolor\":\"white\",\"startlinecolor\":\"#2a3f5f\"},\"baxis\":{\"endlinecolor\":\"#2a3f5f\",\"gridcolor\":\"white\",\"linecolor\":\"white\",\"minorgridcolor\":\"white\",\"startlinecolor\":\"#2a3f5f\"},\"type\":\"carpet\"}],\"table\":[{\"cells\":{\"fill\":{\"color\":\"#EBF0F8\"},\"line\":{\"color\":\"white\"}},\"header\":{\"fill\":{\"color\":\"#C8D4E3\"},\"line\":{\"color\":\"white\"}},\"type\":\"table\"}],\"barpolar\":[{\"marker\":{\"line\":{\"color\":\"#E5ECF6\",\"width\":0.5},\"pattern\":{\"fillmode\":\"overlay\",\"size\":10,\"solidity\":0.2}},\"type\":\"barpolar\"}],\"pie\":[{\"automargin\":true,\"type\":\"pie\"}]},\"layout\":{\"autotypenumbers\":\"strict\",\"colorway\":[\"#636efa\",\"#EF553B\",\"#00cc96\",\"#ab63fa\",\"#FFA15A\",\"#19d3f3\",\"#FF6692\",\"#B6E880\",\"#FF97FF\",\"#FECB52\"],\"font\":{\"color\":\"#2a3f5f\"},\"hovermode\":\"closest\",\"hoverlabel\":{\"align\":\"left\"},\"paper_bgcolor\":\"white\",\"plot_bgcolor\":\"#E5ECF6\",\"polar\":{\"bgcolor\":\"#E5ECF6\",\"angularaxis\":{\"gridcolor\":\"white\",\"linecolor\":\"white\",\"ticks\":\"\"},\"radialaxis\":{\"gridcolor\":\"white\",\"linecolor\":\"white\",\"ticks\":\"\"}},\"ternary\":{\"bgcolor\":\"#E5ECF6\",\"aaxis\":{\"gridcolor\":\"white\",\"linecolor\":\"white\",\"ticks\":\"\"},\"baxis\":{\"gridcolor\":\"white\",\"linecolor\":\"white\",\"ticks\":\"\"},\"caxis\":{\"gridcolor\":\"white\",\"linecolor\":\"white\",\"ticks\":\"\"}},\"coloraxis\":{\"colorbar\":{\"outlinewidth\":0,\"ticks\":\"\"}},\"colorscale\":{\"sequential\":[[0.0,\"#0d0887\"],[0.1111111111111111,\"#46039f\"],[0.2222222222222222,\"#7201a8\"],[0.3333333333333333,\"#9c179e\"],[0.4444444444444444,\"#bd3786\"],[0.5555555555555556,\"#d8576b\"],[0.6666666666666666,\"#ed7953\"],[0.7777777777777778,\"#fb9f3a\"],[0.8888888888888888,\"#fdca26\"],[1.0,\"#f0f921\"]],\"sequentialminus\":[[0.0,\"#0d0887\"],[0.1111111111111111,\"#46039f\"],[0.2222222222222222,\"#7201a8\"],[0.3333333333333333,\"#9c179e\"],[0.4444444444444444,\"#bd3786\"],[0.5555555555555556,\"#d8576b\"],[0.6666666666666666,\"#ed7953\"],[0.7777777777777778,\"#fb9f3a\"],[0.8888888888888888,\"#fdca26\"],[1.0,\"#f0f921\"]],\"diverging\":[[0,\"#8e0152\"],[0.1,\"#c51b7d\"],[0.2,\"#de77ae\"],[0.3,\"#f1b6da\"],[0.4,\"#fde0ef\"],[0.5,\"#f7f7f7\"],[0.6,\"#e6f5d0\"],[0.7,\"#b8e186\"],[0.8,\"#7fbc41\"],[0.9,\"#4d9221\"],[1,\"#276419\"]]},\"xaxis\":{\"gridcolor\":\"white\",\"linecolor\":\"white\",\"ticks\":\"\",\"title\":{\"standoff\":15},\"zerolinecolor\":\"white\",\"automargin\":true,\"zerolinewidth\":2},\"yaxis\":{\"gridcolor\":\"white\",\"linecolor\":\"white\",\"ticks\":\"\",\"title\":{\"standoff\":15},\"zerolinecolor\":\"white\",\"automargin\":true,\"zerolinewidth\":2},\"scene\":{\"xaxis\":{\"backgroundcolor\":\"#E5ECF6\",\"gridcolor\":\"white\",\"linecolor\":\"white\",\"showbackground\":true,\"ticks\":\"\",\"zerolinecolor\":\"white\",\"gridwidth\":2},\"yaxis\":{\"backgroundcolor\":\"#E5ECF6\",\"gridcolor\":\"white\",\"linecolor\":\"white\",\"showbackground\":true,\"ticks\":\"\",\"zerolinecolor\":\"white\",\"gridwidth\":2},\"zaxis\":{\"backgroundcolor\":\"#E5ECF6\",\"gridcolor\":\"white\",\"linecolor\":\"white\",\"showbackground\":true,\"ticks\":\"\",\"zerolinecolor\":\"white\",\"gridwidth\":2}},\"shapedefaults\":{\"line\":{\"color\":\"#2a3f5f\"}},\"annotationdefaults\":{\"arrowcolor\":\"#2a3f5f\",\"arrowhead\":0,\"arrowwidth\":1},\"geo\":{\"bgcolor\":\"white\",\"landcolor\":\"#E5ECF6\",\"subunitcolor\":\"white\",\"showland\":true,\"showlakes\":true,\"lakecolor\":\"white\"},\"title\":{\"x\":0.05},\"mapbox\":{\"style\":\"light\"}}},\"scene\":{\"domain\":{\"x\":[0.0,1.0],\"y\":[0.0,1.0]},\"xaxis\":{\"title\":{\"text\":\"X\"}},\"yaxis\":{\"title\":{\"text\":\"Y\"}},\"zaxis\":{\"title\":{\"text\":\"Z\"}}},\"coloraxis\":{\"colorbar\":{\"title\":{\"text\":\"Cluster\"}},\"colorscale\":[[0.0,\"#0d0887\"],[0.1111111111111111,\"#46039f\"],[0.2222222222222222,\"#7201a8\"],[0.3333333333333333,\"#9c179e\"],[0.4444444444444444,\"#bd3786\"],[0.5555555555555556,\"#d8576b\"],[0.6666666666666666,\"#ed7953\"],[0.7777777777777778,\"#fb9f3a\"],[0.8888888888888888,\"#fdca26\"],[1.0,\"#f0f921\"]]},\"legend\":{\"tracegroupgap\":0},\"margin\":{\"t\":60},\"title\":{\"text\":\"3D View of Clusters\"}},                        {\"responsive\": true}                    ).then(function(){\n",
       "                            \n",
       "var gd = document.getElementById('3c37cb30-b4c0-4a66-a703-c91b11895a92');\n",
       "var x = new MutationObserver(function (mutations, observer) {{\n",
       "        var display = window.getComputedStyle(gd).display;\n",
       "        if (!display || display === 'none') {{\n",
       "            console.log([gd, 'removed!']);\n",
       "            Plotly.purge(gd);\n",
       "            observer.disconnect();\n",
       "        }}\n",
       "}});\n",
       "\n",
       "// Listen for the removal of the full notebook cells\n",
       "var notebookContainer = gd.closest('#notebook-container');\n",
       "if (notebookContainer) {{\n",
       "    x.observe(notebookContainer, {childList: true});\n",
       "}}\n",
       "\n",
       "// Listen for the clearing of the current output cell\n",
       "var outputEl = gd.closest('.output');\n",
       "if (outputEl) {{\n",
       "    x.observe(outputEl, {childList: true});\n",
       "}}\n",
       "\n",
       "                        })                };                });            </script>        </div>"
      ]
     },
     "metadata": {},
     "output_type": "display_data"
    }
   ],
   "source": [
    "import plotly.express as px\n",
    "\n",
    "# Create a 3D scatter plot with different colors for each cluster\n",
    "fig = px.scatter_3d(x=X[:, 0], y=X[:, 1], z=X[:, 2], color=y, labels={'color': 'Cluster'})\n",
    "fig.update_layout(title='3D View of Clusters', scene=dict(xaxis_title='X', yaxis_title='Y', zaxis_title='Z'))\n",
    "fig.show()"
   ]
  },
  {
   "cell_type": "code",
   "execution_count": null,
   "id": "9248cb4c-6dd2-4580-b2b7-dfa672f3174f",
   "metadata": {},
   "outputs": [],
   "source": []
  },
  {
   "cell_type": "code",
   "execution_count": null,
   "id": "ee0910c0-750b-4904-a6c9-8542c2a4671c",
   "metadata": {},
   "outputs": [],
   "source": []
  },
  {
   "cell_type": "code",
   "execution_count": null,
   "id": "f0e285b6-fda7-4d60-b751-8db929f23f8d",
   "metadata": {},
   "outputs": [],
   "source": []
  },
  {
   "cell_type": "code",
   "execution_count": null,
   "id": "a195ce61-6b65-448b-808e-55718147738f",
   "metadata": {},
   "outputs": [],
   "source": []
  },
  {
   "cell_type": "code",
   "execution_count": null,
   "id": "d06eab29-5c1e-417e-bc33-20cb5a3ff5ed",
   "metadata": {},
   "outputs": [],
   "source": []
  },
  {
   "cell_type": "code",
   "execution_count": null,
   "id": "83fb4009-975c-4e75-a75e-764f42c6c9ca",
   "metadata": {},
   "outputs": [],
   "source": []
  },
  {
   "cell_type": "code",
   "execution_count": null,
   "id": "1b364600-13ce-4645-8ce5-b81d3a873e10",
   "metadata": {},
   "outputs": [],
   "source": []
  }
 ],
 "metadata": {
  "kernelspec": {
   "display_name": "Python 3 (ipykernel)",
   "language": "python",
   "name": "python3"
  },
  "language_info": {
   "codemirror_mode": {
    "name": "ipython",
    "version": 3
   },
   "file_extension": ".py",
   "mimetype": "text/x-python",
   "name": "python",
   "nbconvert_exporter": "python",
   "pygments_lexer": "ipython3",
   "version": "3.11.5"
  }
 },
 "nbformat": 4,
 "nbformat_minor": 5
}
