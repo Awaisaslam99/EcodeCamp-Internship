{
 "cells": [
  {
   "cell_type": "code",
   "execution_count": 25,
   "id": "8e05dbd3-4dce-4b33-aac5-ed598871017d",
   "metadata": {},
   "outputs": [],
   "source": [
    "import numpy as np\n",
    "import pandas as pd\n",
    "import matplotlib.pyplot as plt\n",
    "from sklearn.preprocessing import MinMaxScaler\n",
    "from keras.models import Sequential\n",
    "from keras.layers import Dense, LSTM, Dropout\n",
    "\n"
   ]
  },
  {
   "cell_type": "code",
   "execution_count": 32,
   "id": "b618994c-56ef-4b5c-9e7a-7339c7d6188d",
   "metadata": {},
   "outputs": [],
   "source": [
    "# import dataset\n",
    "data = pd.read_csv(\"Google_train_data.csv\")"
   ]
  },
  {
   "cell_type": "code",
   "execution_count": 34,
   "id": "fb237622-9bf1-4996-af6a-80985f2eb98d",
   "metadata": {},
   "outputs": [
    {
     "data": {
      "text/html": [
       "<div>\n",
       "<style scoped>\n",
       "    .dataframe tbody tr th:only-of-type {\n",
       "        vertical-align: middle;\n",
       "    }\n",
       "\n",
       "    .dataframe tbody tr th {\n",
       "        vertical-align: top;\n",
       "    }\n",
       "\n",
       "    .dataframe thead th {\n",
       "        text-align: right;\n",
       "    }\n",
       "</style>\n",
       "<table border=\"1\" class=\"dataframe\">\n",
       "  <thead>\n",
       "    <tr style=\"text-align: right;\">\n",
       "      <th></th>\n",
       "      <th>Date</th>\n",
       "      <th>Open</th>\n",
       "      <th>High</th>\n",
       "      <th>Low</th>\n",
       "      <th>Close</th>\n",
       "      <th>Volume</th>\n",
       "    </tr>\n",
       "  </thead>\n",
       "  <tbody>\n",
       "    <tr>\n",
       "      <th>0</th>\n",
       "      <td>1/3/2012</td>\n",
       "      <td>325.25</td>\n",
       "      <td>332.83</td>\n",
       "      <td>324.97</td>\n",
       "      <td>663.59</td>\n",
       "      <td>7,380,500</td>\n",
       "    </tr>\n",
       "    <tr>\n",
       "      <th>1</th>\n",
       "      <td>1/4/2012</td>\n",
       "      <td>331.27</td>\n",
       "      <td>333.87</td>\n",
       "      <td>329.08</td>\n",
       "      <td>666.45</td>\n",
       "      <td>5,749,400</td>\n",
       "    </tr>\n",
       "    <tr>\n",
       "      <th>2</th>\n",
       "      <td>1/5/2012</td>\n",
       "      <td>329.83</td>\n",
       "      <td>330.75</td>\n",
       "      <td>326.89</td>\n",
       "      <td>657.21</td>\n",
       "      <td>6,590,300</td>\n",
       "    </tr>\n",
       "    <tr>\n",
       "      <th>3</th>\n",
       "      <td>1/6/2012</td>\n",
       "      <td>328.34</td>\n",
       "      <td>328.77</td>\n",
       "      <td>323.68</td>\n",
       "      <td>648.24</td>\n",
       "      <td>5,405,900</td>\n",
       "    </tr>\n",
       "    <tr>\n",
       "      <th>4</th>\n",
       "      <td>1/9/2012</td>\n",
       "      <td>322.04</td>\n",
       "      <td>322.29</td>\n",
       "      <td>309.46</td>\n",
       "      <td>620.76</td>\n",
       "      <td>11,688,800</td>\n",
       "    </tr>\n",
       "  </tbody>\n",
       "</table>\n",
       "</div>"
      ],
      "text/plain": [
       "       Date    Open    High     Low   Close      Volume\n",
       "0  1/3/2012  325.25  332.83  324.97  663.59   7,380,500\n",
       "1  1/4/2012  331.27  333.87  329.08  666.45   5,749,400\n",
       "2  1/5/2012  329.83  330.75  326.89  657.21   6,590,300\n",
       "3  1/6/2012  328.34  328.77  323.68  648.24   5,405,900\n",
       "4  1/9/2012  322.04  322.29  309.46  620.76  11,688,800"
      ]
     },
     "execution_count": 34,
     "metadata": {},
     "output_type": "execute_result"
    }
   ],
   "source": [
    "data.head()"
   ]
  },
  {
   "cell_type": "code",
   "execution_count": 35,
   "id": "76307200-ee10-4e04-beeb-9f609966e2d6",
   "metadata": {},
   "outputs": [
    {
     "data": {
      "text/plain": [
       "(1258, 6)"
      ]
     },
     "execution_count": 35,
     "metadata": {},
     "output_type": "execute_result"
    }
   ],
   "source": [
    "data.shape   "
   ]
  },
  {
   "cell_type": "code",
   "execution_count": 36,
   "id": "9283d425-dced-475e-bb4c-ed21b5fe8592",
   "metadata": {},
   "outputs": [
    {
     "name": "stdout",
     "output_type": "stream",
     "text": [
      "<class 'pandas.core.frame.DataFrame'>\n",
      "RangeIndex: 1258 entries, 0 to 1257\n",
      "Data columns (total 6 columns):\n",
      " #   Column  Non-Null Count  Dtype  \n",
      "---  ------  --------------  -----  \n",
      " 0   Date    1258 non-null   object \n",
      " 1   Open    1258 non-null   float64\n",
      " 2   High    1258 non-null   float64\n",
      " 3   Low     1258 non-null   float64\n",
      " 4   Close   1258 non-null   object \n",
      " 5   Volume  1258 non-null   object \n",
      "dtypes: float64(3), object(3)\n",
      "memory usage: 59.1+ KB\n"
     ]
    }
   ],
   "source": [
    "data.info()"
   ]
  },
  {
   "cell_type": "code",
   "execution_count": 37,
   "id": "d524698b-2af9-416d-a697-108b6ac81d28",
   "metadata": {},
   "outputs": [
    {
     "data": {
      "text/plain": [
       "0"
      ]
     },
     "execution_count": 37,
     "metadata": {},
     "output_type": "execute_result"
    }
   ],
   "source": [
    "data.duplicated().sum()"
   ]
  },
  {
   "cell_type": "code",
   "execution_count": 38,
   "id": "9d97304a-7fbe-439d-81b7-0fee72835fe1",
   "metadata": {},
   "outputs": [],
   "source": [
    "# Convert the 'Close' column to numeric, coercing errors to NaN\n",
    "data[\"Close\"] = pd.to_numeric(data[\"Close\"], errors='coerce')\n",
    "\n",
    "# Drop rows with any NaN values\n",
    "data = data.dropna()\n",
    "\n",
    "# Select the 'Close' column and convert it to a numpy array\n",
    "trainData = data.iloc[:, 4:5].values\n"
   ]
  },
  {
   "cell_type": "code",
   "execution_count": 39,
   "id": "742d55ab-2a8b-4062-be5c-5dfa1d7dd03a",
   "metadata": {},
   "outputs": [
    {
     "name": "stdout",
     "output_type": "stream",
     "text": [
      "<class 'pandas.core.frame.DataFrame'>\n",
      "RangeIndex: 1258 entries, 0 to 1257\n",
      "Data columns (total 6 columns):\n",
      " #   Column  Non-Null Count  Dtype  \n",
      "---  ------  --------------  -----  \n",
      " 0   Date    1258 non-null   object \n",
      " 1   Open    1258 non-null   float64\n",
      " 2   High    1258 non-null   float64\n",
      " 3   Low     1258 non-null   float64\n",
      " 4   Close   1258 non-null   object \n",
      " 5   Volume  1258 non-null   object \n",
      "dtypes: float64(3), object(3)\n",
      "memory usage: 59.1+ KB\n"
     ]
    }
   ],
   "source": [
    "df.info()"
   ]
  },
  {
   "cell_type": "code",
   "execution_count": 40,
   "id": "3854d787-d272-44fa-ad40-78f487410130",
   "metadata": {},
   "outputs": [
    {
     "data": {
      "text/plain": [
       "(1149, 1)"
      ]
     },
     "execution_count": 40,
     "metadata": {},
     "output_type": "execute_result"
    }
   ],
   "source": [
    "sc = MinMaxScaler(feature_range=(0, 1))   \n",
    "trainData = sc.fit_transform(trainData)  \n",
    "trainData.shape  \n"
   ]
  },
  {
   "cell_type": "code",
   "execution_count": 42,
   "id": "e9dc681a-b4a9-4d36-9a33-0b3c0ae08fcf",
   "metadata": {},
   "outputs": [],
   "source": [
    "X_train = []\n",
    "y_train = []\n",
    "for i in range(60, 1149):  # 60 : timestamp // 1149 : length of the data\n",
    "    X_train.append(trainData[i-60:i, 0])  \n",
    "    y_train.append(trainData[i, 0])  \n",
    "\n",
    "X_train, y_train = np.array(X_train), np.array(y_train)  # Convert lists to numpy arrays\n"
   ]
  },
  {
   "cell_type": "code",
   "execution_count": 43,
   "id": "9a30a72d-221f-441b-af13-f5c890955d9c",
   "metadata": {},
   "outputs": [
    {
     "data": {
      "text/plain": [
       "(1089, 60, 1)"
      ]
     },
     "execution_count": 43,
     "metadata": {},
     "output_type": "execute_result"
    }
   ],
   "source": [
    "X_train = np.reshape(X_train, (X_train.shape[0], X_train.shape[1], 1))  # Reshaping to add the batch_size axis\n",
    "X_train.shape  # Output the shape of the reshaped X_train\n"
   ]
  },
  {
   "cell_type": "code",
   "execution_count": 44,
   "id": "a7d74b12-356a-4c84-9353-6358808d6151",
   "metadata": {},
   "outputs": [
    {
     "name": "stderr",
     "output_type": "stream",
     "text": [
      "C:\\Users\\dell\\anaconda3\\Lib\\site-packages\\keras\\src\\layers\\rnn\\rnn.py:204: UserWarning: Do not pass an `input_shape`/`input_dim` argument to a layer. When using Sequential models, prefer using an `Input(shape)` object as the first layer in the model instead.\n",
      "  super().__init__(**kwargs)\n"
     ]
    }
   ],
   "source": [
    "model = Sequential()  \n",
    "\n",
    "model.add(LSTM(units=100, return_sequences=True, input_shape=(X_train.shape[1], 1)))  \n",
    "model.add(Dropout(0.2)) \n",
    "\n",
    "model.add(LSTM(units=100, return_sequences=True))  #\n",
    "model.add(Dropout(0.2))\n",
    "\n",
    "model.add(LSTM(units=100, return_sequences=True))  \n",
    "model.add(Dropout(0.2))\n",
    "\n",
    "model.add(LSTM(units=100))  \n",
    "model.add(Dropout(0.2))\n",
    "\n",
    "model.add(Dense(units=1))  # Add the output layer\n",
    "\n",
    "model.compile(optimizer='adam', loss='mean_squared_error')  \n"
   ]
  },
  {
   "cell_type": "code",
   "execution_count": 45,
   "id": "0aac93ec-7a10-4b66-8e1c-ae24cbeaad7a",
   "metadata": {},
   "outputs": [
    {
     "name": "stdout",
     "output_type": "stream",
     "text": [
      "Epoch 1/20\n",
      "35/35 - 28s - 795ms/step - loss: 0.0348\n",
      "Epoch 2/20\n",
      "35/35 - 9s - 248ms/step - loss: 0.0124\n",
      "Epoch 3/20\n",
      "35/35 - 13s - 373ms/step - loss: 0.0089\n",
      "Epoch 4/20\n",
      "35/35 - 10s - 290ms/step - loss: 0.0084\n",
      "Epoch 5/20\n",
      "35/35 - 12s - 344ms/step - loss: 0.0075\n",
      "Epoch 6/20\n",
      "35/35 - 10s - 290ms/step - loss: 0.0065\n",
      "Epoch 7/20\n",
      "35/35 - 9s - 262ms/step - loss: 0.0059\n",
      "Epoch 8/20\n",
      "35/35 - 11s - 309ms/step - loss: 0.0062\n",
      "Epoch 9/20\n",
      "35/35 - 9s - 253ms/step - loss: 0.0060\n",
      "Epoch 10/20\n",
      "35/35 - 8s - 239ms/step - loss: 0.0062\n",
      "Epoch 11/20\n",
      "35/35 - 10s - 286ms/step - loss: 0.0098\n",
      "Epoch 12/20\n",
      "35/35 - 10s - 280ms/step - loss: 0.0064\n",
      "Epoch 13/20\n",
      "35/35 - 10s - 291ms/step - loss: 0.0057\n",
      "Epoch 14/20\n",
      "35/35 - 10s - 280ms/step - loss: 0.0049\n",
      "Epoch 15/20\n",
      "35/35 - 9s - 243ms/step - loss: 0.0051\n",
      "Epoch 16/20\n",
      "35/35 - 9s - 271ms/step - loss: 0.0047\n",
      "Epoch 17/20\n",
      "35/35 - 10s - 294ms/step - loss: 0.0046\n",
      "Epoch 18/20\n",
      "35/35 - 13s - 361ms/step - loss: 0.0056\n",
      "Epoch 19/20\n",
      "35/35 - 10s - 300ms/step - loss: 0.0048\n",
      "Epoch 20/20\n",
      "35/35 - 11s - 300ms/step - loss: 0.0049\n"
     ]
    }
   ],
   "source": [
    "hist = model.fit(X_train, y_train, epochs=20, batch_size=32, verbose=2)"
   ]
  },
  {
   "cell_type": "code",
   "execution_count": 46,
   "id": "7c1f511c-a972-4451-bca9-d378337ae6da",
   "metadata": {},
   "outputs": [
    {
     "data": {
      "image/png": "[encoded data removed]",
      "text/plain": [
       "<Figure size 640x480 with 1 Axes>"
      ]
     },
     "metadata": {},
     "output_type": "display_data"
    }
   ],
   "source": [
    "plt.plot(hist.history['loss'])  \n",
    "plt.title(\"Training model loss\")\n",
    "plt.ylabel(\"Loss\")  \n",
    "plt.xlabel(\"Epoch\")  \n",
    "plt.legend([\"Train\"], loc=\"upper left\")  \n",
    "plt.show()\n"
   ]
  },
  {
   "cell_type": "code",
   "execution_count": 47,
   "id": "821a0437-e6a5-45f2-aff3-3ebf72df9d2b",
   "metadata": {},
   "outputs": [
    {
     "data": {
      "text/plain": [
       "(192, 60, 1)"
      ]
     },
     "execution_count": 47,
     "metadata": {},
     "output_type": "execute_result"
    }
   ],
   "source": [
    "# Load the test data\n",
    "testData = pd.read_csv('Google_test_data.csv')  \n",
    "\n",
    "# Convert the 'Close' column to numeric, coercing errors to NaN\n",
    "testData[\"Close\"] = pd.to_numeric(testData[\"Close\"], errors='coerce')\n",
    "\n",
    "# Drop rows with any NaN values\n",
    "testData = testData.dropna() \n",
    "\n",
    "# Select the 'Close' column for further processing\n",
    "testData = testData.iloc[:, 4:5]\n",
    "\n",
    "# Prepare y_test for comparison\n",
    "y_test = testData.iloc[60:, :].values  \n",
    "\n",
    "# Prepare the input array for the model\n",
    "inputClosing = testData.iloc[:, :].values  \n",
    "inputClosing_scaled = sc.transform(inputClosing)\n",
    "inputClosing_scaled.shape  \n",
    "\n",
    "# Prepare X_test array\n",
    "X_test = []\n",
    "length = len(testData)\n",
    "timestep = 60\n",
    "for i in range(timestep, length):\n",
    "    X_test.append(inputClosing_scaled[i-timestep:i, 0])\n",
    "\n",
    "X_test = np.array(X_test)\n",
    "X_test = np.reshape(X_test, (X_test.shape[0], X_test.shape[1], 1))  \n",
    "\n",
    "X_test.shape  \n"
   ]
  },
  {
   "cell_type": "code",
   "execution_count": 48,
   "id": "2d112788-1d96-4a08-8eca-7aa0d9ecaa62",
   "metadata": {},
   "outputs": [
    {
     "name": "stdout",
     "output_type": "stream",
     "text": [
      "\u001b[1m6/6\u001b[0m \u001b[32m━━━━━━━━━━━━━━━━━━━━\u001b[0m\u001b[37m\u001b[0m \u001b[1m2s\u001b[0m 105ms/step\n"
     ]
    }
   ],
   "source": [
    "y_pred = model.predict(X_test)"
   ]
  },
  {
   "cell_type": "code",
   "execution_count": 49,
   "id": "3d18ef3f-0888-4d1d-9291-01cd9e53029e",
   "metadata": {},
   "outputs": [
    {
     "data": {
      "text/plain": [
       "array([[1.2143712],\n",
       "       [1.2180041],\n",
       "       [1.2308341],\n",
       "       [1.2492864],\n",
       "       [1.2628675],\n",
       "       [1.2600716],\n",
       "       [1.2425905],\n",
       "       [1.2206935],\n",
       "       [1.2077649],\n",
       "       [1.2057441],\n",
       "       [1.2001765],\n",
       "       [1.1895585],\n",
       "       [1.180179 ],\n",
       "       [1.1716297],\n",
       "       [1.1711662],\n",
       "       [1.1777381],\n",
       "       [1.1989769],\n",
       "       [1.2307605],\n",
       "       [1.2654175],\n",
       "       [1.2979583],\n",
       "       [1.3071564],\n",
       "       [1.2977952],\n",
       "       [1.2703394],\n",
       "       [1.2354499],\n",
       "       [1.2067453],\n",
       "       [1.1931949],\n",
       "       [1.1936953],\n",
       "       [1.1975983],\n",
       "       [1.1928948],\n",
       "       [1.1829369],\n",
       "       [1.1710978],\n",
       "       [1.157282 ],\n",
       "       [1.1361078],\n",
       "       [1.1101257],\n",
       "       [1.10142  ],\n",
       "       [1.1149036],\n",
       "       [1.1415434],\n",
       "       [1.1699233],\n",
       "       [1.194837 ],\n",
       "       [1.204949 ],\n",
       "       [1.2146813],\n",
       "       [1.227573 ],\n",
       "       [1.2436044],\n",
       "       [1.258571 ],\n",
       "       [1.2677696],\n",
       "       [1.2664287],\n",
       "       [1.2531133],\n",
       "       [1.2421346],\n",
       "       [1.2397947],\n",
       "       [1.2475749],\n",
       "       [1.2635112],\n",
       "       [1.27403  ],\n",
       "       [1.2764719],\n",
       "       [1.2723087],\n",
       "       [1.2698057],\n",
       "       [1.2654263],\n",
       "       [1.2562945],\n",
       "       [1.2523419],\n",
       "       [1.2634182],\n",
       "       [1.2844355],\n",
       "       [1.3133805],\n",
       "       [1.3466352],\n",
       "       [1.3675758],\n",
       "       [1.3671182],\n",
       "       [1.3492206],\n",
       "       [1.3238671],\n",
       "       [1.307705 ],\n",
       "       [1.3041711],\n",
       "       [1.3104076],\n",
       "       [1.3187174],\n",
       "       [1.3263346],\n",
       "       [1.3304687],\n",
       "       [1.3261305],\n",
       "       [1.3194423],\n",
       "       [1.3139609],\n",
       "       [1.3127326],\n",
       "       [1.3155748],\n",
       "       [1.3216732],\n",
       "       [1.3349717],\n",
       "       [1.3543445],\n",
       "       [1.3785703],\n",
       "       [1.400545 ],\n",
       "       [1.4109063],\n",
       "       [1.4089888],\n",
       "       [1.4094496],\n",
       "       [1.4207635],\n",
       "       [1.439153 ],\n",
       "       [1.4549438],\n",
       "       [1.4630467],\n",
       "       [1.4633515],\n",
       "       [1.4631045],\n",
       "       [1.4722778],\n",
       "       [1.4907092],\n",
       "       [1.5029402],\n",
       "       [1.5005118],\n",
       "       [1.4843453],\n",
       "       [1.4588155],\n",
       "       [1.4312156],\n",
       "       [1.4101753],\n",
       "       [1.4056857],\n",
       "       [1.4173372],\n",
       "       [1.4391717],\n",
       "       [1.4654154],\n",
       "       [1.486377 ],\n",
       "       [1.4969826],\n",
       "       [1.4959487],\n",
       "       [1.4889603],\n",
       "       [1.4815019],\n",
       "       [1.480361 ],\n",
       "       [1.4859358],\n",
       "       [1.49655  ],\n",
       "       [1.5109131],\n",
       "       [1.5247663],\n",
       "       [1.5387474],\n",
       "       [1.5556264],\n",
       "       [1.5689807],\n",
       "       [1.5781541],\n",
       "       [1.5855429],\n",
       "       [1.5959085],\n",
       "       [1.5733137],\n",
       "       [1.5182722],\n",
       "       [1.4515617],\n",
       "       [1.4014868],\n",
       "       [1.3787738],\n",
       "       [1.3755076],\n",
       "       [1.3810879],\n",
       "       [1.3882574],\n",
       "       [1.3950198],\n",
       "       [1.3909165],\n",
       "       [1.374608 ],\n",
       "       [1.3665714],\n",
       "       [1.3759981],\n",
       "       [1.3927608],\n",
       "       [1.4011853],\n",
       "       [1.4018282],\n",
       "       [1.3985583],\n",
       "       [1.3912162],\n",
       "       [1.3799402],\n",
       "       [1.3679944],\n",
       "       [1.3530136],\n",
       "       [1.3380424],\n",
       "       [1.3220994],\n",
       "       [1.2879256],\n",
       "       [1.2469093],\n",
       "       [1.2082921],\n",
       "       [1.1802453],\n",
       "       [1.1717193],\n",
       "       [1.1846526],\n",
       "       [1.2108604],\n",
       "       [1.2395377],\n",
       "       [1.2661353],\n",
       "       [1.2858257],\n",
       "       [1.2988551],\n",
       "       [1.3089111],\n",
       "       [1.3161439],\n",
       "       [1.3226552],\n",
       "       [1.3310176],\n",
       "       [1.3378911],\n",
       "       [1.3327338],\n",
       "       [1.3150725],\n",
       "       [1.2906406],\n",
       "       [1.2683636],\n",
       "       [1.2580837],\n",
       "       [1.2639194],\n",
       "       [1.2837862],\n",
       "       [1.312354 ],\n",
       "       [1.3365301],\n",
       "       [1.3528038],\n",
       "       [1.3654157],\n",
       "       [1.3762151],\n",
       "       [1.3846085],\n",
       "       [1.3911821],\n",
       "       [1.39635  ],\n",
       "       [1.3973647],\n",
       "       [1.3943782],\n",
       "       [1.3841579],\n",
       "       [1.3721362],\n",
       "       [1.3647927],\n",
       "       [1.3608303],\n",
       "       [1.3574058],\n",
       "       [1.389837 ],\n",
       "       [1.4484416],\n",
       "       [1.5061557],\n",
       "       [1.5426215],\n",
       "       [1.5516037],\n",
       "       [1.5353551],\n",
       "       [1.49268  ],\n",
       "       [1.4452738],\n",
       "       [1.4090375],\n",
       "       [1.3991694],\n",
       "       [1.4065446],\n",
       "       [1.4169525]], dtype=float32)"
      ]
     },
     "execution_count": 49,
     "metadata": {},
     "output_type": "execute_result"
    }
   ],
   "source": [
    "y_pred "
   ]
  },
  {
   "cell_type": "code",
   "execution_count": 50,
   "id": "03c9dfee-3532-496b-8a6e-f0b441132946",
   "metadata": {},
   "outputs": [],
   "source": [
    "predicted_price = sc.inverse_transform(y_pred)"
   ]
  },
  {
   "cell_type": "code",
   "execution_count": 51,
   "id": "edd15071-6039-4ca7-abb1-31256ea9a95d",
   "metadata": {},
   "outputs": [
    {
     "data": {
      "image/png": "[encoded data removed]",
      "text/plain": [
       "<Figure size 640x480 with 1 Axes>"
      ]
     },
     "metadata": {},
     "output_type": "display_data"
    }
   ],
   "source": [
    "plt.plot(y_test, color='red', label='Actual Stock Price')  # Fixed typos and syntax\n",
    "plt.plot(predicted_price, color='green', label='Predicted Stock Price')  # Fixed typos and syntax\n",
    "plt.title('Google Stock Price Prediction')\n",
    "plt.xlabel('Time')\n",
    "plt.ylabel('Stock Price')\n",
    "plt.legend()\n",
    "plt.show()\n"
   ]
  },
  {
   "cell_type": "code",
   "execution_count": null,
   "id": "d824b5cf-e785-4b10-9a2f-efc78905eefb",
   "metadata": {},
   "outputs": [],
   "source": []
  },
  {
   "cell_type": "code",
   "execution_count": null,
   "id": "e37a36da-f43c-4659-8f5e-bfdcff397819",
   "metadata": {},
   "outputs": [],
   "source": []
  },
  {
   "cell_type": "code",
   "execution_count": null,
   "id": "349b3076-2658-4719-a253-8eb051c4ac2a",
   "metadata": {},
   "outputs": [],
   "source": []
  },
  {
   "cell_type": "code",
   "execution_count": null,
   "id": "f63a429f-3150-4af0-a741-74b331fe0709",
   "metadata": {},
   "outputs": [],
   "source": []
  }
 ],
 "metadata": {
  "kernelspec": {
   "display_name": "Python 3 (ipykernel)",
   "language": "python",
   "name": "python3"
  },
  "language_info": {
   "codemirror_mode": {
    "name": "ipython",
    "version": 3
   },
   "file_extension": ".py",
   "mimetype": "text/x-python",
   "name": "python",
   "nbconvert_exporter": "python",
   "pygments_lexer": "ipython3",
   "version": "3.11.5"
  }
 },
 "nbformat": 4,
 "nbformat_minor": 5
}
